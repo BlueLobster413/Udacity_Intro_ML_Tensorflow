{
 "cells": [
  {
   "cell_type": "markdown",
   "metadata": {},
   "source": [
    "### Boston Housing Data\n",
    "\n",
    "In order to gain a better understanding of the metrics used in regression settings, we will be looking at the Boston Housing dataset.  \n",
    "\n",
    "First use the cell below to read in the dataset and set up the training and testing data that will be used for the rest of this problem."
   ]
  },
  {
   "cell_type": "code",
   "execution_count": 1,
   "metadata": {},
   "outputs": [],
   "source": [
    "from sklearn.datasets import load_boston\n",
    "from sklearn.model_selection import train_test_split\n",
    "import numpy as np\n",
    "import tests2 as t\n",
    "\n",
    "boston = load_boston()\n",
    "y = boston.target\n",
    "X = boston.data\n",
    "\n",
    "X_train, X_test, y_train, y_test = train_test_split(\n",
    "            X, y, test_size=0.33, random_state=42)"
   ]
  },
  {
   "cell_type": "markdown",
   "metadata": {},
   "source": [
    "> **Step 1:** Before we get too far, let's do a quick check of the models that you can use in this situation given that you are working on a regression problem.  Use the dictionary and corresponding letters below to provide all the possible models you might choose to use."
   ]
  },
  {
   "cell_type": "code",
   "execution_count": 3,
   "metadata": {},
   "outputs": [
    {
     "name": "stdout",
     "output_type": "stream",
     "text": [
      "That's right!  All but logistic regression can be used for predicting numeric values.  And linear regression is the only one of these that you should not use for predicting categories.  Technically sklearn won't stop you from doing most of anything you want, but you probably want to treat cases in the way you found by answering this question!\n"
     ]
    }
   ],
   "source": [
    "# When can you use the model - use each option as many times as necessary\n",
    "a = 'regression'\n",
    "b = 'classification'\n",
    "c = 'both regression and classification'\n",
    "\n",
    "models = {\n",
    "    'decision trees':c,\n",
    "    'random forest': c,\n",
    "    'adaptive boosting':c,\n",
    "    'logistic regression':b,\n",
    "    'linear regression': a\n",
    "}\n",
    "\n",
    "#checks your answer, no need to change this code\n",
    "t.q1_check(models)"
   ]
  },
  {
   "cell_type": "markdown",
   "metadata": {},
   "source": [
    "> **Step 2:** Now for each of the models you found in the previous question that can be used for regression problems, import them using sklearn."
   ]
  },
  {
   "cell_type": "code",
   "execution_count": 4,
   "metadata": {},
   "outputs": [],
   "source": [
    "# Import models from sklearn - notice you will want to use \n",
    "# the regressor version (not classifier) - googling to find \n",
    "# each of these is what we all do!\n",
    "from sklearn.ensemble import RandomForestRegressor, AdaBoostRegressor\n",
    "from sklearn.tree import DecisionTreeRegressor\n",
    "from sklearn.linear_model import LinearRegression"
   ]
  },
  {
   "cell_type": "markdown",
   "metadata": {},
   "source": [
    "> **Step 3:** Now that you have imported the 4 models that can be used for regression problems, instantate each below."
   ]
  },
  {
   "cell_type": "code",
   "execution_count": 5,
   "metadata": {},
   "outputs": [],
   "source": [
    "# Instantiate each of the models you imported\n",
    "# For now use the defaults for all the hyperparameters\n",
    "randforest = RandomForestRegressor()\n",
    "boost = AdaBoostRegressor()\n",
    "tree = DecisionTreeRegressor()\n",
    "linearreg = LinearRegression()"
   ]
  },
  {
   "cell_type": "markdown",
   "metadata": {},
   "source": [
    "> **Step 4:** Fit each of your instantiated models on the training data."
   ]
  },
  {
   "cell_type": "code",
   "execution_count": 6,
   "metadata": {},
   "outputs": [
    {
     "data": {
      "text/plain": [
       "LinearRegression(copy_X=True, fit_intercept=True, n_jobs=1, normalize=False)"
      ]
     },
     "execution_count": 6,
     "metadata": {},
     "output_type": "execute_result"
    }
   ],
   "source": [
    "# Fit each of your models using the training data\n",
    "randforest.fit(X_train, y_train)\n",
    "boost.fit(X_train, y_train)\n",
    "tree.fit(X_train, y_train)\n",
    "linearreg.fit(X_train, y_train)"
   ]
  },
  {
   "cell_type": "markdown",
   "metadata": {},
   "source": [
    "> **Step 5:** Use each of your models to predict on the test data."
   ]
  },
  {
   "cell_type": "code",
   "execution_count": 7,
   "metadata": {},
   "outputs": [],
   "source": [
    "# Predict on the test values for each model\n",
    "y_randforest = randforest.predict(X_test)\n",
    "y_boost = boost.predict(X_test)\n",
    "y_tree = tree.predict(X_test)\n",
    "y_linear = linearreg.predict(X_test)"
   ]
  },
  {
   "cell_type": "markdown",
   "metadata": {},
   "source": [
    "> **Step 6:** Now for the information related to this lesson.  Use the dictionary to match the metrics that are used for regression and those that are for classification."
   ]
  },
  {
   "cell_type": "code",
   "execution_count": 10,
   "metadata": {},
   "outputs": [
    {
     "name": "stdout",
     "output_type": "stream",
     "text": [
      "That's right! Looks like you know your metrics!\n"
     ]
    }
   ],
   "source": [
    "# potential model options\n",
    "a = 'regression'\n",
    "b = 'classification'\n",
    "c = 'both regression and classification'\n",
    "\n",
    "#\n",
    "metrics = {\n",
    "    'precision': b,\n",
    "    'recall': b,\n",
    "    'accuracy':b,\n",
    "    'r2_score': a,\n",
    "    'mean_squared_error':a,\n",
    "    'area_under_curve': b, \n",
    "    'mean_absolute_area': a \n",
    "}\n",
    "\n",
    "#checks your answer, no need to change this code\n",
    "t.q6_check(metrics)"
   ]
  },
  {
   "cell_type": "markdown",
   "metadata": {},
   "source": [
    "> **Step 6:** Now that you have identified the metrics that can be used in for regression problems, use sklearn to import them."
   ]
  },
  {
   "cell_type": "code",
   "execution_count": 11,
   "metadata": {},
   "outputs": [],
   "source": [
    "# Import the metrics from sklearn\n",
    "from sklearn.metrics import mean_absolute_error, mean_squared_error, r2_score"
   ]
  },
  {
   "cell_type": "markdown",
   "metadata": {},
   "source": [
    "> **Step 7:** Similar to what you did with classification models, let's make sure you are comfortable with how exactly each of these metrics is being calculated.  We can then match the value to what sklearn provides."
   ]
  },
  {
   "cell_type": "code",
   "execution_count": 12,
   "metadata": {},
   "outputs": [
    {
     "name": "stdout",
     "output_type": "stream",
     "text": [
      "0.743808328021\n",
      "0.743808328021\n",
      "Since the above match, we can see that we have correctly calculated the r2 value.\n"
     ]
    }
   ],
   "source": [
    "def r2(actual, preds):\n",
    "    '''\n",
    "    INPUT:\n",
    "    actual - numpy array or pd series of actual y values\n",
    "    preds - numpy array or pd series of predicted y values\n",
    "    OUTPUT:\n",
    "    returns the r-squared score as a float\n",
    "    '''\n",
    "    sse = np.sum((actual-preds)**2)\n",
    "    sst = np.sum((actual-np.mean(actual))**2)\n",
    "    return 1 - sse/sst\n",
    "\n",
    "# Check solution matches sklearn\n",
    "print(r2(y_test, y_tree))\n",
    "print(r2_score(y_test, y_tree))\n",
    "print(\"Since the above match, we can see that we have correctly calculated the r2 value.\")"
   ]
  },
  {
   "cell_type": "code",
   "execution_count": 58,
   "metadata": {},
   "outputs": [
    {
     "name": "stdout",
     "output_type": "stream",
     "text": [
      "0.851904394893\n",
      "0.851904394893\n"
     ]
    }
   ],
   "source": [
    "# R2 for Random Forest\n",
    "print(r2(y_test, y_randforest))\n",
    "print(r2_score(y_test, y_randforest))"
   ]
  },
  {
   "cell_type": "code",
   "execution_count": 31,
   "metadata": {},
   "outputs": [
    {
     "name": "stdout",
     "output_type": "stream",
     "text": [
      "0.813732934252\n"
     ]
    }
   ],
   "source": [
    "# R2 for Adaptive boosting\n",
    "print(r2(y_test, y_boost))"
   ]
  },
  {
   "cell_type": "code",
   "execution_count": 32,
   "metadata": {},
   "outputs": [
    {
     "name": "stdout",
     "output_type": "stream",
     "text": [
      "0.725851581823\n"
     ]
    }
   ],
   "source": [
    "# R2 for linear reg\n",
    "print(r2(y_test, y_linear))"
   ]
  },
  {
   "cell_type": "markdown",
   "metadata": {},
   "source": [
    "> **Step 8:** Your turn fill in the function below and see if your result matches the built in for mean_squared_error. "
   ]
  },
  {
   "cell_type": "code",
   "execution_count": 13,
   "metadata": {},
   "outputs": [
    {
     "data": {
      "text/plain": [
       "array([ 23.6,  32.4,  13.6,  22.8,  16.1,  20. ,  17.8,  14. ,  19.6,\n",
       "        16.8,  21.5,  18.9,   7. ,  21.2,  18.5,  29.8,  18.8,  10.2,\n",
       "        50. ,  14.1,  25.2,  29.1,  12.7,  22.4,  14.2,  13.8,  20.3,\n",
       "        14.9,  21.7,  18.3,  23.1,  23.8,  15. ,  20.8,  19.1,  19.4,\n",
       "        34.7,  19.5,  24.4,  23.4,  19.7,  28.2,  50. ,  17.4,  22.6,\n",
       "        15.1,  13.1,  24.2,  19.9,  24. ,  18.9,  35.4,  15.2,  26.5,\n",
       "        43.5,  21.2,  18.4,  28.5,  23.9,  18.5,  25. ,  35.4,  31.5,\n",
       "        20.2,  24.1,  20. ,  13.1,  24.8,  30.8,  12.7,  20. ,  23.7,\n",
       "        10.8,  20.6,  20.8,   5. ,  20.1,  48.5,  10.9,   7. ,  20.9,\n",
       "        17.2,  20.9,   9.7,  19.4,  29. ,  16.4,  25. ,  25. ,  17.1,\n",
       "        23.2,  10.4,  19.6,  17.2,  27.5,  23. ,  50. ,  17.9,   9.6,\n",
       "        17.2,  22.5,  21.4,  12. ,  19.9,  19.4,  13.4,  18.2,  24.6,\n",
       "        21.1,  24.7,   8.7,  27.5,  20.7,  36.2,  31.6,  11.7,  39.8,\n",
       "        13.9,  21.8,  23.7,  17.6,  24.4,   8.8,  19.2,  25.3,  20.4,\n",
       "        23.1,  37.9,  15.6,  45.4,  15.7,  22.6,  14.5,  18.7,  17.8,\n",
       "        16.1,  20.6,  31.6,  29.1,  15.6,  17.5,  22.5,  19.4,  19.3,\n",
       "         8.5,  20.6,  17. ,  17.1,  14.5,  50. ,  14.3,  12.6,  28.7,\n",
       "        21.2,  19.3,  23.1,  19.1,  25. ,  33.4,   5. ,  29.6,  18.7,\n",
       "        21.7,  23.1,  22.8,  21. ,  48.8])"
      ]
     },
     "execution_count": 13,
     "metadata": {},
     "output_type": "execute_result"
    }
   ],
   "source": [
    "y_test"
   ]
  },
  {
   "cell_type": "code",
   "execution_count": 19,
   "metadata": {},
   "outputs": [
    {
     "data": {
      "text/plain": [
       "array([ 22. ,  27.9,   8.1,  24.8,  16.7,  21.6,  22.5,  13.3,  21.4,\n",
       "        18.9,  18.8,  16.6,   8.8,  21.2,  16.2,  22. ,  17.3,   7.2,\n",
       "        42.3,  17.8,  24.1,  24.4,  13.6,  20.6,  16.7,  15.2,  22. ,\n",
       "        13.4,  19.5,  22.7,  19.8,  22.9,  36.5,  15.3,  13.6,  13.8,\n",
       "        32.9,  19. ,  21.7,  24.7,  22.5,  34.9,  35.2,  26.4,  22. ,\n",
       "        12.7,  15.2,  24.7,  23.2,  24.5,  19.1,  36.1,  16.7,  29.4,\n",
       "        43.1,  20.6,  12.5,  37.3,  21.6,  19.4,  28.4,  29. ,  30.1,\n",
       "        18.2,  30.1,  21.7,  12.5,  22.9,  32.5,  13.4,  22.6,  22. ,\n",
       "        10.5,  23.7,  20.7,   5.6,  19.3,  35.2,  13.3,  15.2,  22. ,\n",
       "        14.5,  19.6,   7.2,  20.3,  25.1,  17.8,  23. ,  23. ,  18. ,\n",
       "        22.6,   5.6,  19.2,  19.6,  22.9,  18.4,  50. ,  11.7,  15.4,\n",
       "        11.7,  17.5,  21.2,  13.6,  20.4,  18.6,   8.1,  20.4,  24.8,\n",
       "        17.5,  21.9,   8.4,  14.5,  22.2,  22.6,  29.9,  16.7,  50. ,\n",
       "        14.8,  16.1,  23.7,  16.2,  25. ,   7.2,  19.1,  24.7,  22.9,\n",
       "        23.2,  37.2,  18.3,  46. ,  16.2,  24.8,  18.2,  16.6,  13.1,\n",
       "        20.2,  19.8,  24.8,  24.5,  21.7,  22.4,  23.5,  19.6,  21.7,\n",
       "         5.6,  18.9,  13.8,  15.4,  17.8,  48.3,  19. ,  14.6,  22.1,\n",
       "        18.5,  16.1,  22.9,  15.2,  18.6,  36.2,   7.2,  21.4,  26.4,\n",
       "        20.4,  22.9,  16.2,  22.8,  41.7])"
      ]
     },
     "execution_count": 19,
     "metadata": {},
     "output_type": "execute_result"
    }
   ],
   "source": [
    "y_tree"
   ]
  },
  {
   "cell_type": "code",
   "execution_count": 60,
   "metadata": {},
   "outputs": [
    {
     "name": "stdout",
     "output_type": "stream",
     "text": [
      "19.3882035928\n",
      "19.3882035928\n",
      "If the above match, you are all set!\n"
     ]
    }
   ],
   "source": [
    "def mse(actual, preds):\n",
    "    '''\n",
    "    INPUT:\n",
    "    actual - numpy array or pd series of actual y values\n",
    "    preds - numpy array or pd series of predicted y values\n",
    "    OUTPUT:\n",
    "    returns the mean squared error as a float\n",
    "    '''\n",
    "    # calculate mse here\n",
    "    error = np.sum((actual-preds)**2)\n",
    "    return error/len(actual)\n",
    "\n",
    "# Check your solution matches sklearn\n",
    "print(mse(y_test, y_tree))\n",
    "print(mean_squared_error(y_test, y_tree))\n",
    "print(\"If the above match, you are all set!\")"
   ]
  },
  {
   "cell_type": "code",
   "execution_count": 63,
   "metadata": {},
   "outputs": [
    {
     "name": "stdout",
     "output_type": "stream",
     "text": [
      "11.207654491\n",
      "11.207654491\n"
     ]
    }
   ],
   "source": [
    "# MSE for Random Forest\n",
    "print(mse(y_test, y_randforest))\n",
    "print(mean_squared_error(y_test, y_randforest))"
   ]
  },
  {
   "cell_type": "code",
   "execution_count": 64,
   "metadata": {},
   "outputs": [
    {
     "name": "stdout",
     "output_type": "stream",
     "text": [
      "14.0964136947\n",
      "14.0964136947\n"
     ]
    }
   ],
   "source": [
    "# MSE for ada boost\n",
    "print(mse(y_test, y_boost))\n",
    "print(mean_squared_error(y_test, y_boost))"
   ]
  },
  {
   "cell_type": "code",
   "execution_count": 65,
   "metadata": {},
   "outputs": [
    {
     "name": "stdout",
     "output_type": "stream",
     "text": [
      "20.7471433603\n",
      "20.7471433603\n"
     ]
    }
   ],
   "source": [
    "# MSE for linear reg\n",
    "print(mse(y_test, y_linear))\n",
    "print(mean_squared_error(y_test, y_linear))"
   ]
  },
  {
   "cell_type": "markdown",
   "metadata": {},
   "source": [
    "> **Step 9:** Now one last time - complete the function related to mean absolute error.  Then check your function against the sklearn metric to assure they match. "
   ]
  },
  {
   "cell_type": "code",
   "execution_count": 66,
   "metadata": {},
   "outputs": [
    {
     "name": "stdout",
     "output_type": "stream",
     "text": [
      "3.10958083832\n",
      "3.10958083832\n",
      "If the above match, you are all set!\n"
     ]
    }
   ],
   "source": [
    "def mae(actual, preds):\n",
    "    '''\n",
    "    INPUT:\n",
    "    actual - numpy array or pd series of actual y values\n",
    "    preds - numpy array or pd series of predicted y values\n",
    "    OUTPUT:\n",
    "    returns the mean absolute error as a float\n",
    "    '''\n",
    "    # calculate the mae here\n",
    "    error = (np.abs(actual-preds)).sum()\n",
    "    return error/len(actual)\n",
    "\n",
    "# Check your solution matches sklearn\n",
    "print(mae(y_test, y_tree))\n",
    "print(mean_absolute_error(y_test, y_tree))\n",
    "print(\"If the above match, you are all set!\")"
   ]
  },
  {
   "cell_type": "code",
   "execution_count": 67,
   "metadata": {},
   "outputs": [
    {
     "name": "stdout",
     "output_type": "stream",
     "text": [
      "2.31323353293\n",
      "2.31323353293\n"
     ]
    }
   ],
   "source": [
    "# MAE for randforest\n",
    "print(mae(y_test, y_randforest))\n",
    "print(mean_absolute_error(y_test, y_randforest))"
   ]
  },
  {
   "cell_type": "code",
   "execution_count": 68,
   "metadata": {},
   "outputs": [
    {
     "name": "stdout",
     "output_type": "stream",
     "text": [
      "2.613984191\n",
      "2.613984191\n"
     ]
    }
   ],
   "source": [
    "# MAE for ada boost\n",
    "print(mae(y_test, y_boost))\n",
    "print(mean_absolute_error(y_test, y_boost))"
   ]
  },
  {
   "cell_type": "code",
   "execution_count": 69,
   "metadata": {},
   "outputs": [
    {
     "name": "stdout",
     "output_type": "stream",
     "text": [
      "3.15128783659\n",
      "3.15128783659\n"
     ]
    }
   ],
   "source": [
    "# MAE for linear reg\n",
    "print(mae(y_test, y_linear))\n",
    "print(mean_absolute_error(y_test, y_linear))"
   ]
  },
  {
   "cell_type": "markdown",
   "metadata": {},
   "source": [
    "> **Step 10:** Which model performed the best in terms of each of the metrics?  Note that r2 and mse will always match, but the mae may give a different best model.  Use the dictionary and space below to match the best model via each metric."
   ]
  },
  {
   "cell_type": "code",
   "execution_count": 70,
   "metadata": {},
   "outputs": [
    {
     "name": "stdout",
     "output_type": "stream",
     "text": [
      "That's right!  The random forest was best in terms of all the metrics this time!\n"
     ]
    }
   ],
   "source": [
    "#match each metric to the model that performed best on it\n",
    "a = 'decision tree'\n",
    "b = 'random forest'\n",
    "c = 'adaptive boosting'\n",
    "d = 'linear regression'\n",
    "\n",
    "\n",
    "best_fit = {\n",
    "    'mse': b,\n",
    "    'r2': b,\n",
    "    'mae': b\n",
    "}\n",
    "\n",
    "#Tests your answer - don't change this code\n",
    "t.check_ten(best_fit)"
   ]
  },
  {
   "cell_type": "code",
   "execution_count": null,
   "metadata": {},
   "outputs": [],
   "source": [
    "# cells for work"
   ]
  },
  {
   "cell_type": "code",
   "execution_count": null,
   "metadata": {},
   "outputs": [],
   "source": []
  }
 ],
 "metadata": {
  "kernelspec": {
   "display_name": "Python 3",
   "language": "python",
   "name": "python3"
  },
  "language_info": {
   "codemirror_mode": {
    "name": "ipython",
    "version": 3
   },
   "file_extension": ".py",
   "mimetype": "text/x-python",
   "name": "python",
   "nbconvert_exporter": "python",
   "pygments_lexer": "ipython3",
   "version": "3.7.4"
  },
  "toc": {
   "base_numbering": 1,
   "nav_menu": {},
   "number_sections": true,
   "sideBar": true,
   "skip_h1_title": false,
   "title_cell": "Table of Contents",
   "title_sidebar": "Contents",
   "toc_cell": false,
   "toc_position": {},
   "toc_section_display": true,
   "toc_window_display": false
  }
 },
 "nbformat": 4,
 "nbformat_minor": 2
}
