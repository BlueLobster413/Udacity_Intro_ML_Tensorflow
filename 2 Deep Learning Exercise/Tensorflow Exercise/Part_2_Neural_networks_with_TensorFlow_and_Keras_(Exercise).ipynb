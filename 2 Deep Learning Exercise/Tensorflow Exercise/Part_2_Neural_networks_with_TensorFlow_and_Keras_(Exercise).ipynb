{
 "cells": [
  {
   "cell_type": "markdown",
   "metadata": {
    "colab_type": "text",
    "id": "bdP73PAAm6bu"
   },
   "source": [
    "# Neural Networks with TensorFlow and Keras\n",
    "\n",
    "Deep neural networks tend to be massive with dozens or even hundreds of layers, that's where the term \"deep\" comes from. You can build one of these deep networks using only weight matrices as we did in the previous notebook, but in general it's very cumbersome and difficult to implement. TensorFlow has a nice API called **Keras** that provides a nice way to efficiently build large neural networks."
   ]
  },
  {
   "cell_type": "markdown",
   "metadata": {
    "colab_type": "text",
    "id": "AHb_h16-YOes"
   },
   "source": [
    "## Import Resources"
   ]
  },
  {
   "cell_type": "code",
   "execution_count": 1,
   "metadata": {},
   "outputs": [],
   "source": [
    "import warnings\n",
    "warnings.filterwarnings('ignore')"
   ]
  },
  {
   "cell_type": "code",
   "execution_count": 2,
   "metadata": {
    "colab": {},
    "colab_type": "code",
    "id": "TVpuOzdonZdj"
   },
   "outputs": [],
   "source": [
    "%matplotlib inline\n",
    "%config InlineBackend.figure_format = 'retina'\n",
    "\n",
    "import numpy as np\n",
    "import matplotlib.pyplot as plt\n",
    "\n",
    "import tensorflow as tf\n",
    "import tensorflow_datasets as tfds\n",
    "tfds.disable_progress_bar()"
   ]
  },
  {
   "cell_type": "code",
   "execution_count": 6,
   "metadata": {},
   "outputs": [],
   "source": [
    "tfds.disable_progress_bar()"
   ]
  },
  {
   "cell_type": "code",
   "execution_count": 3,
   "metadata": {},
   "outputs": [],
   "source": [
    "import logging\n",
    "logger = tf.get_logger()\n",
    "logger.setLevel(logging.ERROR)"
   ]
  },
  {
   "cell_type": "code",
   "execution_count": 4,
   "metadata": {
    "colab": {
     "base_uri": "https://localhost:8080/",
     "height": 85
    },
    "colab_type": "code",
    "id": "NBOTTYzQVaLz",
    "outputId": "95fa3fdd-5870-4e39-99b2-2c3da82d5971",
    "scrolled": true
   },
   "outputs": [
    {
     "name": "stdout",
     "output_type": "stream",
     "text": [
      "Using:\n",
      "\t• TensorFlow version: 2.0.0\n",
      "\t• tf.keras version: 2.2.4-tf\n",
      "\t• GPU device not found. Running on CPU\n"
     ]
    }
   ],
   "source": [
    "print('Using:')\n",
    "print('\\t\\u2022 TensorFlow version:', tf.__version__)\n",
    "print('\\t\\u2022 tf.keras version:', tf.keras.__version__)\n",
    "print('\\t\\u2022 Running on GPU' if tf.test.is_gpu_available() else '\\t\\u2022 GPU device not found. Running on CPU')"
   ]
  },
  {
   "cell_type": "markdown",
   "metadata": {
    "colab_type": "text",
    "id": "tcHviD_uYQ5R"
   },
   "source": [
    "## Load the Dataset"
   ]
  },
  {
   "cell_type": "markdown",
   "metadata": {
    "colab_type": "text",
    "id": "Y8cMpbPrngfy"
   },
   "source": [
    "Now we're going to build a larger network that can solve a (formerly) difficult problem, identifying text in an image. Here we'll use the MNIST dataset which consists of greyscale handwritten digits. Each image is 28x28 pixels, you can see a sample below\n",
    "\n",
    "<img src='assets/mnist.png'>\n",
    "\n",
    "Our goal is to build a neural network that can take one of these images and predict the digit in the image.\n",
    "\n",
    "First up, we need to get the dataset we are going to use to train and test our Neural Network. We will get our dataset using the [`tensorflow_datasets`](https://www.tensorflow.org/datasets) package. TensorFlow Datasets is a repository of datasets ready to use with TensorFlow. TensorFlow Datasets has a wide variety of datasets to train your machine learning models for many different tasks, ranging from text to video. For a full list of the datasets available in TensorFlow Datasets check out the [TensorFlow Datasets Catalog](https://www.tensorflow.org/datasets/catalog/overview#all_datasets).\n",
    "\n",
    "\n",
    "The code below will load the MNIST dataset. "
   ]
  },
  {
   "cell_type": "code",
   "execution_count": 5,
   "metadata": {
    "colab": {
     "base_uri": "https://localhost:8080/",
     "height": 360
    },
    "colab_type": "code",
    "id": "C1g79MKHnhsT",
    "outputId": "25221d70-5079-40e1-cd5a-999ca81c7e6b",
    "scrolled": false
   },
   "outputs": [
    {
     "name": "stdout",
     "output_type": "stream",
     "text": [
      "\u001b[1mDownloading and preparing dataset mnist (11.06 MiB) to /root/tensorflow_datasets/mnist/1.0.0...\u001b[0m\n"
     ]
    },
    {
     "name": "stderr",
     "output_type": "stream",
     "text": [
      "WARNING:absl:Warning: Setting shuffle_files=True because split=TRAIN and shuffle_files=None. This behavior will be deprecated on 2019-08-06, at which point shuffle_files=False will be the default for all splits.\n"
     ]
    },
    {
     "name": "stdout",
     "output_type": "stream",
     "text": [
      "\u001b[1mDataset mnist downloaded and prepared to /root/tensorflow_datasets/mnist/1.0.0. Subsequent calls will reuse this data.\u001b[0m\n"
     ]
    }
   ],
   "source": [
    "# Load training data\n",
    "training_set, dataset_info = tfds.load('mnist', split = 'train', as_supervised = True, with_info = True)"
   ]
  },
  {
   "cell_type": "markdown",
   "metadata": {
    "colab_type": "text",
    "id": "82QelXpcYdmD"
   },
   "source": [
    "## Inspect the Dataset"
   ]
  },
  {
   "cell_type": "markdown",
   "metadata": {
    "colab_type": "text",
    "id": "VjDZz2a90Iyb"
   },
   "source": [
    "We have loaded the training data into `training_set` and loaded dataset information into `dataset_info`.  Let's get the total number of classes and the total number of images in our training set from `dataset_info`."
   ]
  },
  {
   "cell_type": "code",
   "execution_count": 6,
   "metadata": {
    "colab": {
     "base_uri": "https://localhost:8080/",
     "height": 68
    },
    "colab_type": "code",
    "id": "9euLZQJD0g05",
    "outputId": "ba83ff2e-0702-45cb-ba6f-39dad0cb3061",
    "scrolled": true
   },
   "outputs": [
    {
     "name": "stdout",
     "output_type": "stream",
     "text": [
      "There are 10 classes in our dataset\n",
      "\n",
      "There are 60,000 images in the training set\n"
     ]
    }
   ],
   "source": [
    "num_classes = dataset_info.features['label'].num_classes\n",
    "print('There are {:,} classes in our dataset'.format(num_classes))\n",
    "\n",
    "num_training_examples = dataset_info.splits['train'].num_examples\n",
    "print('\\nThere are {:,} images in the training set'.format(num_training_examples))"
   ]
  },
  {
   "cell_type": "code",
   "execution_count": 7,
   "metadata": {},
   "outputs": [
    {
     "data": {
      "text/plain": [
       "<TakeDataset shapes: ((28, 28, 1), ()), types: (tf.uint8, tf.int64)>"
      ]
     },
     "execution_count": 7,
     "metadata": {},
     "output_type": "execute_result"
    }
   ],
   "source": [
    "training_set.take(10)"
   ]
  },
  {
   "cell_type": "markdown",
   "metadata": {
    "colab_type": "text",
    "id": "WpZNLP-QnyRG"
   },
   "source": [
    "We can use `training_set` as an iterator so, we can use the following statement to loop through the dataset:\n",
    "\n",
    "```python\n",
    "for image, label in training_set:\n",
    "    ## do things with images and labels\n",
    "```\n",
    "\n",
    "Let's print the shape and dtype of our images and labels. We'll use the `.take(1)` method to only choose one element from our dataset. Since our dataset consists of images, the `.take(1)` method will choose only one image. "
   ]
  },
  {
   "cell_type": "code",
   "execution_count": 8,
   "metadata": {
    "colab": {
     "base_uri": "https://localhost:8080/",
     "height": 119
    },
    "colab_type": "code",
    "id": "n1EXyPuDnywu",
    "outputId": "cf377be9-1cff-45e6-cbd4-77b4eec5c2f3",
    "scrolled": true
   },
   "outputs": [
    {
     "name": "stdout",
     "output_type": "stream",
     "text": [
      "The images in the training set have:\n",
      "• dtype: <dtype: 'uint8'>\n",
      "• shape: (28, 28, 1)\n",
      "\n",
      "The labels of the images have:\n",
      "• dtype: <dtype: 'int64'>\n",
      "• shape: ()\n"
     ]
    }
   ],
   "source": [
    "for image, label in training_set.take(1):\n",
    "    print('The images in the training set have:')\n",
    "    print('\\u2022 dtype:', image.dtype) \n",
    "    print('\\u2022 shape:', image.shape)\n",
    "  \n",
    "    print('\\nThe labels of the images have:')\n",
    "    print('\\u2022 dtype:', label.dtype)\n",
    "    print('\\u2022 shape:', label.shape)"
   ]
  },
  {
   "cell_type": "markdown",
   "metadata": {
    "colab_type": "text",
    "id": "gcgow6H54ujJ"
   },
   "source": [
    "The images in our dataset are tensors of `shape = (28, 28, 1)` and `dtype = uint8`. `unit8` represents an 8-bit unsigned integer and can hold integers in the range 0 to 255. On the other hand, the labels of our images are tensors of `dtype = int64`, which means they are 64-bit signed integers. Now let's see what an image from our dataset looks like. In order to plot our images, we will have to convert them from TensorFlow tensors to NumPy ndarrays first, by using the `.numpy()` method. Since the images have `shape = (28, 28, 1)` we will use the `.squeeze()` method to reshape the images to have `shape = (28, 28)`. The `.squeeze()` method removes single-dimensional entries from the shape of an ndarray."
   ]
  },
  {
   "cell_type": "code",
   "execution_count": 9,
   "metadata": {
    "colab": {
     "base_uri": "https://localhost:8080/",
     "height": 284
    },
    "colab_type": "code",
    "id": "z7MooIVjn34f",
    "outputId": "ac9862fb-7f61-426e-c52d-bbf64ebc5c80"
   },
   "outputs": [
    {
     "data": {
      "image/png": "[encoded data removed]",
      "text/plain": [
       "<Figure size 432x288 with 2 Axes>"
      ]
     },
     "metadata": {
      "image/png": {
       "height": 248,
       "width": 305
      },
      "needs_background": "light"
     },
     "output_type": "display_data"
    },
    {
     "name": "stdout",
     "output_type": "stream",
     "text": [
      "The label of this image is: 7\n"
     ]
    }
   ],
   "source": [
    "for image, label in training_set.take(1):\n",
    "    image = image.numpy().squeeze()\n",
    "    label = label.numpy()\n",
    "    \n",
    "# Plot the image\n",
    "plt.imshow(image, cmap = plt.cm.binary)\n",
    "plt.colorbar()\n",
    "plt.show()\n",
    "\n",
    "print('The label of this image is:', label)"
   ]
  },
  {
   "cell_type": "markdown",
   "metadata": {
    "colab_type": "text",
    "id": "GJkmaOsyYpOz"
   },
   "source": [
    "## Create Pipeline"
   ]
  },
  {
   "cell_type": "markdown",
   "metadata": {
    "colab_type": "text",
    "id": "u5emVveHn7X6"
   },
   "source": [
    "As we can see, the pixel values of our images are in the range `[0, 255]`. We will now normalize the images and create a pipeline with our training set so that it can be fed into our neural network. In order to normalize the images we are going to divide the pixel values by 255. We will therefore, first change the `dtype` of our image from `uint8` to `float32`  (32-bit single-precision floating-point numbers) using the `tf.cast` function."
   ]
  },
  {
   "cell_type": "code",
   "execution_count": 10,
   "metadata": {
    "colab": {},
    "colab_type": "code",
    "id": "3g_jqq96n8Ft"
   },
   "outputs": [],
   "source": [
    "def normalize(image, label):\n",
    "    image = tf.cast(image, tf.float32)\n",
    "    image /= 255\n",
    "    return image, label\n",
    "\n",
    "batch_size = 64\n",
    "\n",
    "training_batches = training_set.cache().shuffle(num_training_examples//4).batch(batch_size).map(normalize).prefetch(1)"
   ]
  },
  {
   "cell_type": "markdown",
   "metadata": {
    "colab_type": "text",
    "id": "AXQPznKeoBcx"
   },
   "source": [
    "You'll notice we created the pipeline with a batch size of `64`, and that we are shuffling our dataset. The batch size is the number of images we get in one iteration and are passed through our network, often called a *batch*. The `shuffle` transformation randomly shuffles the elements of our dataset before being fed to our network.\n",
    "\n",
    "Although many of these transformations are commutative, the ordering of certain transformations has performance implications. For more information on these transformations and their impact on performance make sure to check the following links:\n",
    "\n",
    "* [Pipeline Performance](https://www.tensorflow.org/beta/guide/data_performance)\n",
    "\n",
    "\n",
    "* [Transformations](https://www.tensorflow.org/api_docs/python/tf/data/Dataset)\n",
    "\n",
    "Now that we have our `training_batches` let's inspect them:"
   ]
  },
  {
   "cell_type": "code",
   "execution_count": 11,
   "metadata": {
    "colab": {
     "base_uri": "https://localhost:8080/",
     "height": 136
    },
    "colab_type": "code",
    "id": "Yh3fw8YvoB_N",
    "outputId": "92cbef35-7d51-40ed-dedd-dd90ccd41fc9"
   },
   "outputs": [
    {
     "name": "stdout",
     "output_type": "stream",
     "text": [
      "The images in each batch have:\n",
      "• dtype: <dtype: 'float32'>\n",
      "• shape: (64, 28, 28, 1)\n",
      "\n",
      "There are a total of 64 image labels in this batch:\n",
      "[3 9 9 1 2 9 3 5 5 9 4 5 1 1 8 4 9 6 4 2 1 0 8 9 0 7 1 4 3 8 8 6 8 7 3 2 9\n",
      " 0 0 6 7 9 7 1 3 1 0 8 8 9 3 7 7 8 1 7 2 3 5 4 2 7 3 8]\n"
     ]
    }
   ],
   "source": [
    "for image_batch, label_batch in training_batches.take(1):\n",
    "    print('The images in each batch have:')\n",
    "    print('\\u2022 dtype:', image_batch.dtype) \n",
    "    print('\\u2022 shape:', image_batch.shape)\n",
    "  \n",
    "    print('\\nThere are a total of {} image labels in this batch:'.format(label_batch.numpy().size))\n",
    "    print(label_batch.numpy())"
   ]
  },
  {
   "cell_type": "markdown",
   "metadata": {
    "colab_type": "text",
    "id": "BKyE_NeNoGo5"
   },
   "source": [
    "Now, let's see how we can grab a single image from our one of our batches."
   ]
  },
  {
   "cell_type": "code",
   "execution_count": 12,
   "metadata": {
    "colab": {
     "base_uri": "https://localhost:8080/",
     "height": 286
    },
    "colab_type": "code",
    "id": "Td2-DArEoHHu",
    "outputId": "c62e7df4-42bb-41e6-9576-cab6f796680d"
   },
   "outputs": [
    {
     "data": {
      "image/png": "[encoded data removed]",
      "text/plain": [
       "<Figure size 432x288 with 2 Axes>"
      ]
     },
     "metadata": {
      "image/png": {
       "height": 252,
       "width": 302
      },
      "needs_background": "light"
     },
     "output_type": "display_data"
    },
    {
     "name": "stdout",
     "output_type": "stream",
     "text": [
      "The label of this image is: 3\n"
     ]
    }
   ],
   "source": [
    "# Take a single batch of images, and remove the color dimension by squeezing it\n",
    "for image_batch, label_batch in training_batches.take(1):\n",
    "    images = image_batch.numpy().squeeze()\n",
    "    labels = label_batch.numpy()\n",
    "\n",
    "# Plot the image\n",
    "plt.imshow(images[0], cmap = plt.cm.binary)\n",
    "plt.colorbar()\n",
    "plt.show()\n",
    "\n",
    "print('The label of this image is:', labels[0])"
   ]
  },
  {
   "cell_type": "markdown",
   "metadata": {
    "colab_type": "text",
    "id": "aa2qHmjUoMNS"
   },
   "source": [
    "## Build a Simple Neural Network\n",
    "\n",
    "First, let's try to build a simple network for this dataset using weight matrices and matrix multiplications, just like we did in the previous notebook. Then, we'll see how to do it using TensorFlow and Keras, which provides a much more convenient and powerful method for defining network architectures.\n",
    "\n",
    "The networks you've seen so far are called *fully-connected* or *dense* networks. Each unit in one layer is connected to each unit in the next layer. In fully-connected networks, the input to each layer must be a one-dimensional vector (which can be stacked into a 2D tensor as a batch of multiple examples). However, our images are 28 $\\times$ 28 2D tensors, so we need to convert them into 1D vectors. Thinking about sizes, we need to convert the batch of images with shape `(64, 28, 28, 1)` to a have a shape of `(64, 784)`, 784 is 28 times 28. This is typically called *flattening*, we flattened the 2D images into 1D vectors.\n",
    "\n",
    "In the previous notebook, you built a network with one output unit. Here we need 10 output units, one for each digit. We want our network to predict the digit shown in an image, so what we'll do, is calculate the probabilities that the image is of any one digit or class. This ends up being a discrete probability distribution over the classes (digits) that tells us the most likely class for the image. That means we need 10 output units for the 10 classes (digits). We'll see how to convert the network output into a probability distribution next.\n",
    "\n",
    "> **Exercise:** Flatten the batch of images `images` that we've created above. Then build a simple network with 784 input units, 256 hidden units, and 10 output units using random tensors for the weights and biases. For now, use a sigmoid activation function for the units in the hidden layer. Leave the output layer without an activation, we'll add one that gives us a probability distribution next. **HINT:** You can use the [`tf.reshape()`](https://www.tensorflow.org/versions/r2.0/api_docs/python/tf/reshape) function to flatten the batch of images."
   ]
  },
  {
   "cell_type": "code",
   "execution_count": 17,
   "metadata": {
    "scrolled": true
   },
   "outputs": [
    {
     "data": {
      "text/plain": [
       "(64, 28, 28)"
      ]
     },
     "execution_count": 17,
     "metadata": {},
     "output_type": "execute_result"
    }
   ],
   "source": [
    "images.shape"
   ]
  },
  {
   "cell_type": "code",
   "execution_count": 15,
   "metadata": {},
   "outputs": [
    {
     "data": {
      "text/plain": [
       "<tf.Tensor: id=140198, shape=(64, 784), dtype=float32, numpy=\n",
       "array([[0., 0., 0., ..., 0., 0., 0.],\n",
       "       [0., 0., 0., ..., 0., 0., 0.],\n",
       "       [0., 0., 0., ..., 0., 0., 0.],\n",
       "       ...,\n",
       "       [0., 0., 0., ..., 0., 0., 0.],\n",
       "       [0., 0., 0., ..., 0., 0., 0.],\n",
       "       [0., 0., 0., ..., 0., 0., 0.]], dtype=float32)>"
      ]
     },
     "execution_count": 15,
     "metadata": {},
     "output_type": "execute_result"
    }
   ],
   "source": [
    "inputs"
   ]
  },
  {
   "cell_type": "code",
   "execution_count": 14,
   "metadata": {},
   "outputs": [
    {
     "data": {
      "text/plain": [
       "<tf.Tensor: id=140202, shape=(784,), dtype=float32, numpy=\n",
       "array([0.        , 0.        , 0.        , 0.        , 0.        ,\n",
       "       0.        , 0.        , 0.        , 0.        , 0.        ,\n",
       "       0.        , 0.        , 0.        , 0.        , 0.        ,\n",
       "       0.        , 0.        , 0.        , 0.        , 0.        ,\n",
       "       0.        , 0.        , 0.        , 0.        , 0.        ,\n",
       "       0.        , 0.        , 0.        , 0.        , 0.        ,\n",
       "       0.        , 0.        , 0.        , 0.        , 0.        ,\n",
       "       0.        , 0.        , 0.        , 0.        , 0.        ,\n",
       "       0.        , 0.        , 0.        , 0.        , 0.        ,\n",
       "       0.        , 0.        , 0.        , 0.        , 0.        ,\n",
       "       0.        , 0.        , 0.        , 0.        , 0.        ,\n",
       "       0.        , 0.        , 0.        , 0.        , 0.        ,\n",
       "       0.        , 0.        , 0.        , 0.        , 0.        ,\n",
       "       0.        , 0.        , 0.        , 0.1764706 , 0.93333334,\n",
       "       0.34509805, 0.        , 0.        , 0.        , 0.        ,\n",
       "       0.        , 0.        , 0.        , 0.        , 0.        ,\n",
       "       0.        , 0.        , 0.        , 0.        , 0.        ,\n",
       "       0.        , 0.        , 0.        , 0.        , 0.        ,\n",
       "       0.        , 0.        , 0.        , 0.        , 0.        ,\n",
       "       0.16470589, 0.70980394, 0.99215686, 0.8117647 , 0.02745098,\n",
       "       0.        , 0.        , 0.        , 0.        , 0.        ,\n",
       "       0.        , 0.        , 0.        , 0.        , 0.        ,\n",
       "       0.        , 0.        , 0.        , 0.        , 0.        ,\n",
       "       0.        , 0.        , 0.        , 0.        , 0.        ,\n",
       "       0.        , 0.        , 0.        , 0.28627452, 0.99215686,\n",
       "       0.99215686, 0.93333334, 0.03921569, 0.        , 0.        ,\n",
       "       0.        , 0.        , 0.        , 0.        , 0.        ,\n",
       "       0.        , 0.        , 0.        , 0.        , 0.        ,\n",
       "       0.        , 0.        , 0.        , 0.        , 0.        ,\n",
       "       0.        , 0.        , 0.        , 0.        , 0.        ,\n",
       "       0.        , 0.28627452, 0.99215686, 0.99215686, 0.5647059 ,\n",
       "       0.        , 0.        , 0.        , 0.        , 0.        ,\n",
       "       0.        , 0.        , 0.        , 0.        , 0.        ,\n",
       "       0.        , 0.        , 0.        , 0.        , 0.        ,\n",
       "       0.        , 0.        , 0.        , 0.        , 0.        ,\n",
       "       0.        , 0.        , 0.        , 0.        , 0.28627452,\n",
       "       0.99215686, 0.99215686, 0.5647059 , 0.        , 0.        ,\n",
       "       0.        , 0.        , 0.        , 0.        , 0.        ,\n",
       "       0.        , 0.        , 0.        , 0.        , 0.        ,\n",
       "       0.        , 0.        , 0.        , 0.        , 0.        ,\n",
       "       0.        , 0.        , 0.        , 0.        , 0.        ,\n",
       "       0.        , 0.        , 0.64705884, 0.99215686, 0.99215686,\n",
       "       0.43137255, 0.        , 0.        , 0.        , 0.        ,\n",
       "       0.        , 0.        , 0.        , 0.        , 0.        ,\n",
       "       0.        , 0.        , 0.        , 0.        , 0.        ,\n",
       "       0.        , 0.        , 0.        , 0.        , 0.        ,\n",
       "       0.        , 0.        , 0.        , 0.        , 0.        ,\n",
       "       0.7607843 , 0.99215686, 0.99215686, 0.09411765, 0.        ,\n",
       "       0.        , 0.        , 0.        , 0.        , 0.        ,\n",
       "       0.        , 0.        , 0.        , 0.        , 0.        ,\n",
       "       0.        , 0.        , 0.        , 0.        , 0.        ,\n",
       "       0.        , 0.        , 0.        , 0.        , 0.        ,\n",
       "       0.        , 0.        , 0.20784314, 0.9607843 , 0.99215686,\n",
       "       0.99215686, 0.09411765, 0.        , 0.        , 0.        ,\n",
       "       0.        , 0.        , 0.        , 0.        , 0.        ,\n",
       "       0.        , 0.        , 0.        , 0.        , 0.        ,\n",
       "       0.        , 0.        , 0.        , 0.        , 0.        ,\n",
       "       0.        , 0.        , 0.        , 0.        , 0.        ,\n",
       "       0.23921569, 0.99215686, 0.99215686, 0.44705883, 0.01176471,\n",
       "       0.        , 0.        , 0.        , 0.        , 0.        ,\n",
       "       0.        , 0.        , 0.        , 0.        , 0.        ,\n",
       "       0.        , 0.        , 0.        , 0.        , 0.        ,\n",
       "       0.        , 0.        , 0.        , 0.        , 0.        ,\n",
       "       0.        , 0.        , 0.        , 0.6901961 , 0.99215686,\n",
       "       0.99215686, 0.14117648, 0.        , 0.        , 0.        ,\n",
       "       0.        , 0.        , 0.        , 0.        , 0.        ,\n",
       "       0.        , 0.        , 0.        , 0.        , 0.        ,\n",
       "       0.        , 0.        , 0.        , 0.        , 0.        ,\n",
       "       0.        , 0.        , 0.        , 0.        , 0.        ,\n",
       "       0.        , 0.7176471 , 0.99607843, 0.99607843, 0.14117648,\n",
       "       0.        , 0.02352941, 0.05098039, 0.05098039, 0.2784314 ,\n",
       "       0.05098039, 0.01568628, 0.        , 0.        , 0.        ,\n",
       "       0.        , 0.        , 0.        , 0.        , 0.        ,\n",
       "       0.        , 0.        , 0.        , 0.        , 0.        ,\n",
       "       0.        , 0.        , 0.        , 0.        , 0.7137255 ,\n",
       "       0.99215686, 0.99215686, 0.1764706 , 0.3019608 , 0.77254903,\n",
       "       1.        , 0.99215686, 0.99215686, 0.99215686, 0.5529412 ,\n",
       "       0.        , 0.        , 0.        , 0.        , 0.        ,\n",
       "       0.        , 0.        , 0.        , 0.        , 0.        ,\n",
       "       0.        , 0.        , 0.        , 0.        , 0.        ,\n",
       "       0.        , 0.        , 0.7137255 , 0.99215686, 0.99215686,\n",
       "       0.8117647 , 0.99215686, 0.99215686, 0.99607843, 0.99215686,\n",
       "       0.99215686, 0.99215686, 0.9019608 , 0.14901961, 0.        ,\n",
       "       0.        , 0.        , 0.        , 0.        , 0.        ,\n",
       "       0.        , 0.        , 0.        , 0.        , 0.        ,\n",
       "       0.        , 0.        , 0.        , 0.        , 0.        ,\n",
       "       0.7137255 , 0.99215686, 0.99215686, 0.99215686, 0.99215686,\n",
       "       0.99215686, 0.78431374, 0.32941177, 0.42745098, 0.99215686,\n",
       "       0.99215686, 0.23529412, 0.        , 0.        , 0.        ,\n",
       "       0.        , 0.        , 0.        , 0.        , 0.        ,\n",
       "       0.        , 0.        , 0.        , 0.        , 0.        ,\n",
       "       0.        , 0.        , 0.        , 0.7137255 , 0.99215686,\n",
       "       0.99215686, 0.99215686, 0.6862745 , 0.28235295, 0.        ,\n",
       "       0.        , 0.25882354, 0.99215686, 0.99215686, 0.23529412,\n",
       "       0.        , 0.        , 0.        , 0.        , 0.        ,\n",
       "       0.        , 0.        , 0.        , 0.        , 0.        ,\n",
       "       0.        , 0.        , 0.        , 0.        , 0.        ,\n",
       "       0.        , 0.7137255 , 0.99215686, 0.99215686, 0.99215686,\n",
       "       0.5647059 , 0.        , 0.        , 0.21176471, 0.90588236,\n",
       "       0.99215686, 0.99215686, 0.23529412, 0.        , 0.        ,\n",
       "       0.        , 0.        , 0.        , 0.        , 0.        ,\n",
       "       0.        , 0.        , 0.        , 0.        , 0.        ,\n",
       "       0.        , 0.        , 0.        , 0.        , 0.7137255 ,\n",
       "       0.99215686, 0.99215686, 0.99215686, 0.5647059 , 0.        ,\n",
       "       0.36078432, 0.9137255 , 0.99215686, 0.99215686, 0.6392157 ,\n",
       "       0.04705882, 0.        , 0.        , 0.        , 0.        ,\n",
       "       0.        , 0.        , 0.        , 0.        , 0.        ,\n",
       "       0.        , 0.        , 0.        , 0.        , 0.        ,\n",
       "       0.        , 0.        , 0.21568628, 0.90588236, 0.99215686,\n",
       "       0.99215686, 0.93333334, 0.85490197, 0.99607843, 0.99215686,\n",
       "       0.99215686, 0.92156863, 0.1764706 , 0.        , 0.        ,\n",
       "       0.        , 0.        , 0.        , 0.        , 0.        ,\n",
       "       0.        , 0.        , 0.        , 0.        , 0.        ,\n",
       "       0.        , 0.        , 0.        , 0.        , 0.        ,\n",
       "       0.        , 0.32941177, 0.99215686, 0.99215686, 0.99215686,\n",
       "       0.99215686, 0.99607843, 0.99215686, 0.93333334, 0.23137255,\n",
       "       0.        , 0.        , 0.        , 0.        , 0.        ,\n",
       "       0.        , 0.        , 0.        , 0.        , 0.        ,\n",
       "       0.        , 0.        , 0.        , 0.        , 0.        ,\n",
       "       0.        , 0.        , 0.        , 0.        , 0.01568628,\n",
       "       0.04313726, 0.45490196, 0.72156864, 0.99215686, 0.7490196 ,\n",
       "       0.5176471 , 0.21960784, 0.        , 0.        , 0.        ,\n",
       "       0.        , 0.        , 0.        , 0.        , 0.        ,\n",
       "       0.        , 0.        , 0.        , 0.        , 0.        ,\n",
       "       0.        , 0.        , 0.        , 0.        , 0.        ,\n",
       "       0.        , 0.        , 0.        , 0.        , 0.        ,\n",
       "       0.        , 0.        , 0.        , 0.        , 0.        ,\n",
       "       0.        , 0.        , 0.        , 0.        , 0.        ,\n",
       "       0.        , 0.        , 0.        , 0.        , 0.        ,\n",
       "       0.        , 0.        , 0.        , 0.        , 0.        ,\n",
       "       0.        , 0.        , 0.        , 0.        , 0.        ,\n",
       "       0.        , 0.        , 0.        , 0.        , 0.        ,\n",
       "       0.        , 0.        , 0.        , 0.        , 0.        ,\n",
       "       0.        , 0.        , 0.        , 0.        , 0.        ,\n",
       "       0.        , 0.        , 0.        , 0.        , 0.        ,\n",
       "       0.        , 0.        , 0.        , 0.        , 0.        ,\n",
       "       0.        , 0.        , 0.        , 0.        , 0.        ,\n",
       "       0.        , 0.        , 0.        , 0.        , 0.        ,\n",
       "       0.        , 0.        , 0.        , 0.        , 0.        ,\n",
       "       0.        , 0.        , 0.        , 0.        , 0.        ,\n",
       "       0.        , 0.        , 0.        , 0.        , 0.        ,\n",
       "       0.        , 0.        , 0.        , 0.        , 0.        ,\n",
       "       0.        , 0.        , 0.        , 0.        , 0.        ,\n",
       "       0.        , 0.        , 0.        , 0.        , 0.        ,\n",
       "       0.        , 0.        , 0.        , 0.        , 0.        ,\n",
       "       0.        , 0.        , 0.        , 0.        , 0.        ,\n",
       "       0.        , 0.        , 0.        , 0.        , 0.        ,\n",
       "       0.        , 0.        , 0.        , 0.        , 0.        ,\n",
       "       0.        , 0.        , 0.        , 0.        , 0.        ,\n",
       "       0.        , 0.        , 0.        , 0.        , 0.        ,\n",
       "       0.        , 0.        , 0.        , 0.        , 0.        ,\n",
       "       0.        , 0.        , 0.        , 0.        , 0.        ,\n",
       "       0.        , 0.        , 0.        , 0.        , 0.        ,\n",
       "       0.        , 0.        , 0.        , 0.        , 0.        ,\n",
       "       0.        , 0.        , 0.        , 0.        , 0.        ,\n",
       "       0.        , 0.        , 0.        , 0.        , 0.        ,\n",
       "       0.        , 0.        , 0.        , 0.        ], dtype=float32)>"
      ]
     },
     "execution_count": 14,
     "metadata": {},
     "output_type": "execute_result"
    }
   ],
   "source": [
    "inputs[0]"
   ]
  },
  {
   "cell_type": "code",
   "execution_count": 16,
   "metadata": {},
   "outputs": [
    {
     "data": {
      "text/plain": [
       "TensorShape([784])"
      ]
     },
     "execution_count": 16,
     "metadata": {},
     "output_type": "execute_result"
    }
   ],
   "source": [
    "inputs[0].shape"
   ]
  },
  {
   "cell_type": "code",
   "execution_count": 39,
   "metadata": {
    "colab": {
     "base_uri": "https://localhost:8080/",
     "height": 34
    },
    "colab_type": "code",
    "id": "69pQ7bEIoMw0",
    "outputId": "edc086d3-29a3-456e-a997-07174c31d87b",
    "scrolled": true
   },
   "outputs": [
    {
     "name": "stdout",
     "output_type": "stream",
     "text": [
      "The output has shape: (64, 10)\n"
     ]
    }
   ],
   "source": [
    "## Solution\n",
    "def sigmoid(x):\n",
    "    return 1/(1+tf.exp(-x))\n",
    "\n",
    "inputs = tf.reshape(images, [images.shape[0], -1])\n",
    "inputs.shape #[64, 784]\n",
    "#image_input = inputs[0]\n",
    "## Neural Net with 28*28=784 inuput nodes, 256 hidden nodes, 10 output nodes\n",
    "n_input = inputs.shape[1]\n",
    "n_hidden = 256\n",
    "n_output = 10\n",
    "\n",
    "W1 = tf.random.normal((n_input, n_hidden))\n",
    "B1 = tf.random.normal((1, n_hidden))\n",
    "\n",
    "W2 = tf.random.normal((n_hidden, n_output))\n",
    "B2 = tf.random.normal((1, n_output))\n",
    "\n",
    "hidden = sigmoid(tf.matmul(inputs, W1)+B1)\n",
    "\n",
    "output = tf.matmul(hidden, W2)+B2\n",
    "\n",
    "# Print the shape of the output. It should be (64,10)\n",
    "print('The output has shape:', output.shape)"
   ]
  },
  {
   "cell_type": "code",
   "execution_count": 40,
   "metadata": {},
   "outputs": [
    {
     "data": {
      "text/plain": [
       "<tf.Tensor: id=140405, shape=(64, 10), dtype=float32, numpy=\n",
       "array([[-1.04619246e+01,  1.28371229e+01,  7.47730970e+00,\n",
       "        -7.90520906e+00,  1.61565361e+01,  1.04649715e+01,\n",
       "         7.25026178e+00, -1.26249971e+01, -1.10195923e+01,\n",
       "         5.34184694e+00],\n",
       "       [-1.10272408e+01,  1.08730631e+01,  1.16056800e-02,\n",
       "        -7.56566000e+00,  2.03604107e+01,  3.98002529e+00,\n",
       "         2.58454895e+00, -1.28716183e+01, -1.87421513e+01,\n",
       "         1.19134645e+01],\n",
       "       [-7.85241795e+00,  1.58620892e+01,  3.04705167e+00,\n",
       "        -3.65574479e+00,  1.29919167e+01,  1.60008507e+01,\n",
       "         8.18501055e-01,  1.72360373e+00, -3.01606631e+00,\n",
       "        -9.39148366e-01],\n",
       "       [-1.67517700e+01,  8.42919350e+00,  7.23888063e+00,\n",
       "        -1.19742622e+01,  7.43083239e+00,  4.64388800e+00,\n",
       "         3.25171232e+00,  5.61733913e+00, -6.68955469e+00,\n",
       "         1.43103743e+01],\n",
       "       [-1.27850666e+01,  4.90895033e+00,  1.20227432e+01,\n",
       "         5.20702243e-01,  1.56700153e+01,  9.97053146e+00,\n",
       "         1.16006941e-01, -3.63265419e+00, -1.21226997e+01,\n",
       "         2.27159195e+01],\n",
       "       [-5.60437870e+00,  5.66168404e+00, -2.59995151e+00,\n",
       "        -1.25734687e-01,  1.35376377e+01,  1.62144871e+01,\n",
       "         7.71039057e+00, -4.22816277e+00, -2.56176519e+00,\n",
       "         6.57549572e+00],\n",
       "       [-1.00010500e+01,  1.51507864e+01,  2.88604569e+00,\n",
       "         1.39808693e+01,  1.12482147e+01,  5.17442846e+00,\n",
       "         3.84320807e+00,  4.43256044e+00, -1.52884331e+01,\n",
       "        -7.75408697e+00],\n",
       "       [-1.13681459e+01,  1.55467930e+01,  7.47743034e+00,\n",
       "        -5.94107723e+00,  1.09108467e+01,  1.15159960e+01,\n",
       "         1.03084679e+01, -1.37509956e+01, -7.55357885e+00,\n",
       "         5.11170864e+00],\n",
       "       [-1.15209522e+01,  6.24589968e+00,  2.48748422e+00,\n",
       "        -2.19143724e+00,  1.74806366e+01, -1.95216739e+00,\n",
       "         9.06375980e+00, -2.88549185e+00, -1.25625315e+01,\n",
       "         2.90381956e+00],\n",
       "       [-8.81541252e+00,  4.26570511e+00,  1.32054930e+01,\n",
       "        -1.21443272e+01,  1.34549923e+01,  1.06383123e+01,\n",
       "         5.69000053e+00, -1.51614151e+01, -1.33667488e+01,\n",
       "         3.74587560e+00],\n",
       "       [-1.79789314e+01,  7.81386185e+00,  5.60073090e+00,\n",
       "        -7.82973337e+00,  1.32574501e+01,  2.22772598e+00,\n",
       "         2.56588650e+00, -2.56438231e+00, -1.19340782e+01,\n",
       "         9.46706009e+00],\n",
       "       [-1.69481583e+01,  1.58538723e+01,  7.16340399e+00,\n",
       "        -1.21420498e+01,  8.84048271e+00,  4.20164251e+00,\n",
       "         7.86447859e+00, -1.33069258e+01, -2.75335383e+00,\n",
       "        -6.74190426e+00],\n",
       "       [-4.24767685e+00,  1.34658155e+01,  5.86411476e-01,\n",
       "        -1.11398411e+01,  1.00459652e+01,  1.22132397e+01,\n",
       "         5.97372484e+00, -1.37327147e+00,  7.11894560e+00,\n",
       "        -1.39298224e+00],\n",
       "       [-1.13138313e+01,  9.27065468e+00,  1.75239336e+00,\n",
       "         4.75655556e+00,  1.73909721e+01,  3.40318441e+00,\n",
       "         1.10064631e+01,  1.79350543e+00, -2.12596169e+01,\n",
       "         7.59540987e+00],\n",
       "       [-6.81440353e+00,  2.94546676e+00,  8.07798445e-01,\n",
       "        -1.05047197e+01,  2.16616802e+01,  2.04517460e+01,\n",
       "         2.69895744e+00, -1.13944435e+00,  3.37168813e+00,\n",
       "         3.86605120e+00],\n",
       "       [-1.28685198e+01,  7.81762695e+00,  3.45214367e+00,\n",
       "         3.20137978e-01,  1.76004601e+01,  1.32032471e+01,\n",
       "        -1.40159369e+00, -8.19953632e+00, -7.73553467e+00,\n",
       "         8.07425594e+00],\n",
       "       [-8.64328957e+00,  7.15739584e+00, -3.82525873e+00,\n",
       "        -9.39059353e+00,  2.00333633e+01,  9.87821198e+00,\n",
       "         2.28364229e+00, -1.04388609e+01, -5.03089714e+00,\n",
       "         3.58359754e-01],\n",
       "       [-6.09697866e+00,  1.73911533e+01,  5.41459656e+00,\n",
       "        -9.30223560e+00,  8.96925354e+00,  1.40967417e+01,\n",
       "         1.52933812e+00, -3.11972857e-01, -3.07340622e+00,\n",
       "         1.01236572e+01],\n",
       "       [-2.08271732e+01,  5.54536438e+00,  1.29228210e+00,\n",
       "        -9.26692200e+00,  1.11810360e+01,  5.24078274e+00,\n",
       "         9.31944561e+00, -6.34322822e-01, -1.02526464e+01,\n",
       "         1.07381439e+01],\n",
       "       [-1.14228468e+01,  8.13881683e+00,  3.77424431e+00,\n",
       "        -4.01408243e+00,  1.77223339e+01,  2.42255783e+01,\n",
       "        -2.36486864e+00, -1.52655816e+00, -1.01171446e+01,\n",
       "         2.31254053e+00],\n",
       "       [-1.73664989e+01, -1.83699000e+00,  1.67405188e-01,\n",
       "        -1.61849823e+01,  1.64264679e+01,  1.30824480e+01,\n",
       "         1.32567701e+01, -1.41855021e+01, -9.68266487e+00,\n",
       "        -4.88611841e+00],\n",
       "       [-1.79808102e+01, -4.74750757e+00, -2.54892683e+00,\n",
       "        -1.74545937e+01,  1.28988800e+01,  5.84718180e+00,\n",
       "         1.04831624e+00, -1.14561787e+01, -1.28063993e+01,\n",
       "         1.46352673e+01],\n",
       "       [-6.37779522e+00,  3.93368793e+00,  1.03044710e+01,\n",
       "         3.12513638e+00,  1.36657314e+01,  1.91325665e+01,\n",
       "         1.39370060e+00, -1.16514168e+01, -1.44201517e+01,\n",
       "         7.20659828e+00],\n",
       "       [-1.26529627e+01,  3.37743425e+00,  9.41486359e+00,\n",
       "        -9.81962872e+00,  2.30975780e+01,  7.90451813e+00,\n",
       "         4.57028770e+00, -6.40076494e+00, -1.01443472e+01,\n",
       "         5.34440517e+00],\n",
       "       [-1.65359936e+01,  5.89160156e+00,  1.39276814e+00,\n",
       "         3.78773689e+00,  1.23914089e+01,  1.02118139e+01,\n",
       "         1.18573818e+01,  5.10313082e+00, -1.56455956e+01,\n",
       "         7.44274569e+00],\n",
       "       [-1.68565140e+01,  5.30539656e+00,  1.28486156e+01,\n",
       "        -1.49652636e+00,  1.84491158e+01,  9.65694809e+00,\n",
       "         9.43162537e+00, -9.48799038e+00, -1.52008028e+01,\n",
       "         1.09009910e+00],\n",
       "       [-1.44202366e+01, -3.53512478e+00, -9.98650455e+00,\n",
       "        -5.17347383e+00,  6.75639820e+00,  9.18126965e+00,\n",
       "        -9.96160603e+00, -1.05350351e+01, -1.22214403e+01,\n",
       "         1.04401236e+01],\n",
       "       [-1.40739079e+01,  1.17866983e+01,  1.18360252e+01,\n",
       "         9.42182159e+00,  1.03705082e+01,  2.28797340e+01,\n",
       "         8.73727381e-01, -1.87911034e+00, -5.53940630e+00,\n",
       "         9.12090874e+00],\n",
       "       [-7.77143860e+00,  9.11344814e+00,  1.18905001e+01,\n",
       "        -1.78159103e+01,  8.06123734e+00,  6.43289566e+00,\n",
       "        -1.92606473e+00, -1.50910788e+01, -6.22662306e+00,\n",
       "         1.50751572e+01],\n",
       "       [-2.59787388e+01,  1.00065145e+01,  5.39967918e+00,\n",
       "        -1.03759565e+01,  6.04915857e+00,  1.27580948e+01,\n",
       "         6.92001677e+00, -1.20935373e+01, -8.06190395e+00,\n",
       "        -1.00534129e+00],\n",
       "       [-1.44408646e+01,  9.02735996e+00,  9.61010838e+00,\n",
       "        -1.30685101e+01,  1.30568142e+01,  5.14734697e+00,\n",
       "         1.20006537e+00, -7.64453268e+00,  6.26830435e+00,\n",
       "        -2.70939612e+00],\n",
       "       [-3.04052973e+00,  6.24288511e+00,  1.14242659e+01,\n",
       "        -2.04377918e+01,  3.46000481e+00,  2.05969143e+01,\n",
       "         1.60154209e+01, -7.00468349e+00,  7.11833286e+00,\n",
       "         1.05463810e+01],\n",
       "       [-2.12635002e+01,  8.45421410e+00,  7.95733571e-01,\n",
       "        -1.18100560e+00,  1.38571453e+01,  8.94641972e+00,\n",
       "         4.05938673e+00, -4.42059612e+00, -1.26168346e+01,\n",
       "         2.61183786e+00],\n",
       "       [-7.02817345e+00,  2.37048244e+00, -2.52458835e+00,\n",
       "        -1.56586723e+01,  1.93296509e+01,  8.87098789e+00,\n",
       "        -4.95205820e-03, -7.34137249e+00, -1.34124756e+01,\n",
       "         3.27237844e+00],\n",
       "       [-9.50328541e+00,  6.73785353e+00,  1.16953793e+01,\n",
       "         4.33476734e+00,  2.13605728e+01,  7.23635387e+00,\n",
       "         1.13658600e+01, -2.84221888e-01, -1.10141201e+01,\n",
       "        -7.73128688e-01],\n",
       "       [-1.99807529e+01,  6.95790720e+00, -7.00115061e+00,\n",
       "        -9.95476151e+00,  8.21539688e+00,  1.03087883e+01,\n",
       "         1.00426264e+01, -6.30194092e+00, -1.55319614e+01,\n",
       "         3.99633980e+00],\n",
       "       [-1.78455849e+01,  4.66330242e+00, -1.87382746e+00,\n",
       "        -1.40456057e+01,  2.41071463e-01,  8.99235630e+00,\n",
       "         6.46279621e+00, -9.67339706e+00, -1.07023487e+01,\n",
       "         1.22386103e+01],\n",
       "       [ 1.83105230e-01,  4.15744662e-01,  8.48910999e+00,\n",
       "        -4.90982914e+00,  1.87004452e+01,  1.09251842e+01,\n",
       "         7.74196339e+00, -1.65509243e+01, -9.37861061e+00,\n",
       "         1.14042449e+00],\n",
       "       [-1.99115734e+01,  1.11765757e+01,  3.39083099e+00,\n",
       "         7.46494389e+00,  9.34243202e+00,  6.74334478e+00,\n",
       "         1.09147978e+01,  5.07520723e+00, -1.92525101e+01,\n",
       "        -8.57816505e+00],\n",
       "       [-1.22194300e+01,  7.17925978e+00,  3.03714609e+00,\n",
       "         1.27076206e+01,  1.37856293e+01,  1.61856766e+01,\n",
       "         4.39467335e+00,  4.87774706e+00, -2.01882420e+01,\n",
       "        -3.95928442e-01],\n",
       "       [-2.09198570e+01,  7.37683249e+00, -2.62741148e-01,\n",
       "        -8.83354759e+00,  1.99703579e+01, -7.04198599e-01,\n",
       "         1.21525230e+01, -6.71114588e+00, -1.51645279e+01,\n",
       "         7.59766293e+00],\n",
       "       [-2.14336224e+01,  6.94527292e+00,  8.54428768e+00,\n",
       "        -4.81604099e+00,  1.94856491e+01,  2.12407494e+01,\n",
       "        -1.10899830e+00, -1.32564383e+01, -1.03777800e+01,\n",
       "         3.43411589e+00],\n",
       "       [-1.88803043e+01,  1.12450771e+01,  5.65486717e+00,\n",
       "        -5.70463943e+00,  1.53690319e+01,  1.07572479e+01,\n",
       "         1.01055498e+01, -7.35869837e+00, -2.37538071e+01,\n",
       "         1.65703702e+00],\n",
       "       [-5.99326229e+00,  1.25437212e+01,  1.50922327e+01,\n",
       "         1.26288280e+01,  1.50484886e+01,  1.18212395e+01,\n",
       "         1.13996357e-01,  3.04950023e+00, -8.38991737e+00,\n",
       "        -4.78003693e+00],\n",
       "       [-1.64408360e+01,  6.55915451e+00, -3.86216688e+00,\n",
       "        -9.12475872e+00,  2.27645340e+01,  1.87960415e+01,\n",
       "        -2.12576777e-01, -1.04488039e+01, -1.10355415e+01,\n",
       "         5.43157291e+00],\n",
       "       [-1.04409494e+01,  8.06982994e+00, -5.72097874e+00,\n",
       "         4.57515430e+00,  1.48994846e+01,  1.47782984e+01,\n",
       "         1.05133114e+01, -1.31808758e-01, -3.38738656e+00,\n",
       "        -6.53334141e+00],\n",
       "       [-5.14802647e+00,  1.02975550e+01,  4.59759140e+00,\n",
       "         5.29503012e+00,  1.70383968e+01,  1.63022652e+01,\n",
       "         6.08448362e+00,  3.27010155e+00,  7.85414875e-01,\n",
       "        -2.00825906e+00],\n",
       "       [-1.93392067e+01,  1.30202475e+01,  7.55404615e+00,\n",
       "         4.82661581e+00,  1.33744259e+01,  6.70483923e+00,\n",
       "         6.13638735e+00, -3.28525209e+00, -2.42519016e+01,\n",
       "         2.73347688e+00],\n",
       "       [-1.07310047e+01,  1.40015593e+01,  3.23859572e-01,\n",
       "        -5.66579390e+00,  2.89537296e+01,  1.06634579e+01,\n",
       "         2.46620107e+00, -9.55827332e+00, -1.59566984e+01,\n",
       "         6.95958090e+00],\n",
       "       [-2.27091599e+01,  5.36672735e+00,  1.03487148e+01,\n",
       "        -1.20569191e+01,  1.93219986e+01,  5.45586205e+00,\n",
       "         2.48099589e+00, -1.55609903e+01, -1.91403294e+01,\n",
       "         6.18971443e+00],\n",
       "       [-8.11754036e+00,  1.30615520e+01,  2.12169576e+00,\n",
       "        -2.78788662e+00,  1.88647518e+01,  1.35840988e+01,\n",
       "         8.67204571e+00, -1.15699892e+01, -1.10714064e+01,\n",
       "        -9.17151392e-01],\n",
       "       [-1.86931934e+01, -4.74397373e+00,  7.51822948e+00,\n",
       "        -1.65076256e+01,  9.04530525e+00,  1.67150631e+01,\n",
       "         4.71255732e+00, -5.76580381e+00,  1.26715374e+00,\n",
       "         6.23088598e+00],\n",
       "       [-1.19926872e+01,  1.54362288e+01,  7.21225166e+00,\n",
       "        -9.97578144e+00,  1.42279549e+01,  7.86018324e+00,\n",
       "         3.02611923e+00,  1.81954622e+00, -9.88998890e+00,\n",
       "        -4.87006664e+00],\n",
       "       [-1.50626593e+01,  1.93126047e+00,  7.64624453e+00,\n",
       "         7.31923342e-01,  1.12933350e+01,  1.30987921e+01,\n",
       "         2.79747510e+00, -3.55787563e+00,  2.62351656e+00,\n",
       "         7.75775576e+00],\n",
       "       [-2.36487808e+01,  8.06108952e+00,  5.26634884e+00,\n",
       "         2.83928227e+00,  1.17234955e+01,  1.10931864e+01,\n",
       "         2.75955629e+00, -1.16581774e+01, -2.24011612e+01,\n",
       "         1.38378906e+01],\n",
       "       [-8.31264496e+00,  5.20673943e+00, -5.12985277e+00,\n",
       "         1.21267338e+01,  8.33301735e+00,  6.51283979e+00,\n",
       "        -1.33489060e+00, -8.94467163e+00, -2.45142021e+01,\n",
       "         4.51947165e+00],\n",
       "       [-2.34814148e+01,  9.06514072e+00, -3.26217365e+00,\n",
       "        -8.22118473e+00,  9.22837830e+00,  1.70561199e+01,\n",
       "         8.92925739e+00, -8.72391796e+00, -1.43950825e+01,\n",
       "         2.35589314e+00],\n",
       "       [-1.40395584e+01,  4.93128252e+00, -7.66299903e-01,\n",
       "        -2.19047508e+01,  6.73997211e+00, -4.00668740e-01,\n",
       "         4.08404160e+00, -6.25771344e-01, -1.27177372e+01,\n",
       "        -2.33274865e+00],\n",
       "       [-2.26277599e+01,  5.45401669e+00,  6.23961687e-02,\n",
       "        -7.42318439e+00,  2.02046967e+01,  7.85309029e+00,\n",
       "         6.21022034e+00, -1.16622362e+01, -1.28098907e+01,\n",
       "         6.32283258e+00],\n",
       "       [-2.31561813e+01,  5.69639802e-01, -3.72379398e+00,\n",
       "        -8.32942963e+00,  1.33219833e+01,  7.14676285e+00,\n",
       "         4.07899904e+00, -9.63792896e+00, -6.58866501e+00,\n",
       "         1.20749073e+01],\n",
       "       [-1.61398811e+01,  5.13577652e+00,  8.18953609e+00,\n",
       "        -2.23372102e-01,  1.55649052e+01,  4.37462568e+00,\n",
       "         1.17135096e+00,  2.46560884e+00, -2.08337078e+01,\n",
       "         3.43318367e+00],\n",
       "       [-1.43761330e+01,  1.15387545e+01,  8.18431664e+00,\n",
       "        -3.45923972e+00,  1.45987415e+01,  5.97572803e+00,\n",
       "         1.13187056e+01,  5.71524477e+00, -1.03125753e+01,\n",
       "         1.40854704e+00],\n",
       "       [-2.84913902e+01,  1.91487753e+00, -2.80075622e+00,\n",
       "        -1.07597446e+01,  1.62519417e+01,  1.15696869e+01,\n",
       "         4.10670662e+00, -1.02087851e+01, -1.54647532e+01,\n",
       "         6.82454205e+00],\n",
       "       [-1.55045671e+01,  6.99310112e+00,  3.42250276e+00,\n",
       "        -8.47410488e+00,  1.99531727e+01,  1.26133280e+01,\n",
       "         7.63177395e-01, -6.12209463e+00, -8.32459164e+00,\n",
       "         2.93671203e+00]], dtype=float32)>"
      ]
     },
     "execution_count": 40,
     "metadata": {},
     "output_type": "execute_result"
    }
   ],
   "source": [
    "output"
   ]
  },
  {
   "cell_type": "code",
   "execution_count": 22,
   "metadata": {
    "scrolled": true
   },
   "outputs": [
    {
     "data": {
      "text/plain": [
       "(11,)"
      ]
     },
     "execution_count": 22,
     "metadata": {},
     "output_type": "execute_result"
    }
   ],
   "source": [
    "xxx=np.array([2,3,4,5,6,7,8,99,12,34,2])\n",
    "xxx.shape"
   ]
  },
  {
   "cell_type": "code",
   "execution_count": 25,
   "metadata": {},
   "outputs": [
    {
     "data": {
      "text/plain": [
       "(10,)"
      ]
     },
     "execution_count": 25,
     "metadata": {},
     "output_type": "execute_result"
    }
   ],
   "source": [
    "np.ones(10).shape"
   ]
  },
  {
   "cell_type": "markdown",
   "metadata": {
    "colab_type": "text",
    "id": "p6YnpZowoSz2"
   },
   "source": [
    "Now we have 10 outputs for our network. We want to pass in an image to our network and get out a probability distribution over the classes that tells us the most likely class(es) the image belongs to. Something that looks like this:\n",
    "<img src='assets/image_distribution.png' width=500px>\n",
    "\n",
    "Here we see that the probability for each class is roughly the same. This is representing an untrained network, it hasn't seen any data yet so it just returns a uniform distribution with equal probabilities for each class.\n",
    "\n",
    "To calculate this probability distribution, we often use the [**softmax** function](https://en.wikipedia.org/wiki/Softmax_function). Mathematically this looks like\n",
    "\n",
    "$$\n",
    "\\Large \\sigma(x_i) = \\cfrac{e^{x_i}}{\\sum_k^K{e^{x_k}}}\n",
    "$$\n",
    "\n",
    "What this does is squish each input $x_i$ between 0 and 1 and normalizes the values to give you a proper probability distribution where the probabilities sum up to one.\n",
    "\n",
    "> **Exercise:** Implement a function `softmax` that performs the softmax calculation and returns probability distributions for each example in the batch. Note that you'll need to pay attention to the shapes when doing this. If you have a tensor `a` with shape `(64, 10)` and a tensor `b` with shape `(64,)`, doing `a/b` will give you an error because TensorFlow will try to do the division across the columns (called broadcasting) but you'll get a size mismatch. The way to think about this is the following: for each of the 64 examples, you only want to divide by one value, the sum in the denominator. So you need `b` to have a shape of `(64, 1)`. This way TensorFlow will divide the 10 values in each row of `a` by the one value in each row of `b`. Pay attention to how you take the sum as well. You'll need to define the `axis` keyword in `tf.reduce_sum()`. Setting `axis=0` takes the sum across the rows while `axis=1` takes the sum across the columns. You will also need to use the `keepdims` keyword in `tf.reduce_sum()` to make sure the output tensor has the correct shape `(64,1)`."
   ]
  },
  {
   "cell_type": "code",
   "execution_count": 41,
   "metadata": {
    "scrolled": true
   },
   "outputs": [
    {
     "data": {
      "text/plain": [
       "<tf.Tensor: id=140410, shape=(64, 10), dtype=float32, numpy=\n",
       "array([[2.64709001e-12, 3.47869545e-02, 1.63560762e-04, 3.41299870e-11,\n",
       "        9.61654902e-01, 3.24492157e-03, 1.30338725e-04, 3.04339399e-13,\n",
       "        1.51557228e-12, 1.93312280e-05],\n",
       "       [2.33555478e-14, 7.57828966e-05, 1.45378509e-09, 7.44278554e-13,\n",
       "        9.99709666e-01, 7.69064741e-08, 1.90508889e-08, 3.69306661e-15,\n",
       "        1.04195037e-17, 2.14492335e-04],\n",
       "       [2.27721956e-11, 4.53403115e-01, 1.23306063e-06, 1.51355040e-09,\n",
       "        2.57030353e-02, 5.20892203e-01, 1.32781381e-07, 3.28260228e-07,\n",
       "        2.86949686e-09, 2.28981154e-08],\n",
       "       [3.21923308e-14, 2.77783163e-03, 8.44811148e-04, 3.82470271e-12,\n",
       "        1.02358335e-03, 6.30621289e-05, 1.56730821e-05, 1.66929502e-04,\n",
       "        7.54600327e-10, 9.95108128e-01],\n",
       "       [3.81705498e-16, 1.84562019e-08, 2.26789707e-05, 2.29271671e-10,\n",
       "        8.70188756e-04, 2.91312472e-06, 1.52965501e-10, 3.60222334e-12,\n",
       "        7.40270956e-16, 9.99104202e-01],\n",
       "       [3.12737086e-10, 2.44325220e-05, 6.30936370e-09, 7.49073266e-08,\n",
       "        6.43356219e-02, 9.35389340e-01, 1.89544080e-04, 1.23840416e-09,\n",
       "        6.55495436e-09, 6.09300696e-05],\n",
       "       [8.96657228e-12, 7.51502097e-01, 3.54340659e-06, 2.33260736e-01,\n",
       "        1.51727693e-02, 3.49343754e-05, 9.22807976e-06, 1.66365699e-05,\n",
       "        4.53257664e-14, 8.48144957e-11],\n",
       "       [1.98081785e-12, 9.67952430e-01, 3.02952394e-04, 4.50599336e-10,\n",
       "        9.38616414e-03, 1.71910003e-02, 5.13899652e-03, 1.82804171e-13,\n",
       "        8.98441946e-11, 2.84416310e-05],\n",
       "       [2.53903018e-13, 1.32042460e-05, 3.07931799e-07, 2.86038682e-09,\n",
       "        9.99764919e-01, 3.63361030e-09, 2.21052149e-04, 1.42889622e-09,\n",
       "        8.96016049e-14, 4.66946062e-07],\n",
       "       [1.15708935e-10, 5.55167608e-05, 4.23569471e-01, 4.14607975e-12,\n",
       "        5.43601692e-01, 3.25096473e-02, 2.30668214e-04, 2.02923819e-13,\n",
       "        1.22108725e-12, 3.30114817e-05],\n",
       "       [2.64522613e-14, 4.20853123e-03, 4.60235402e-04, 6.76399825e-10,\n",
       "        9.73309338e-01, 1.57798386e-05, 2.21291048e-05, 1.30893000e-07,\n",
       "        1.11611553e-11, 2.19839364e-02],\n",
       "       [5.67080511e-15, 9.98586297e-01, 1.67943479e-04, 6.93283863e-13,\n",
       "        8.98481579e-04, 8.68733332e-06, 3.38560261e-04, 2.16277774e-13,\n",
       "        8.28647728e-09, 1.53519836e-10],\n",
       "       [1.53564788e-08, 7.57118046e-01, 1.93067649e-06, 1.55977783e-11,\n",
       "        2.47708838e-02, 2.16359928e-01, 4.22075304e-04, 2.72038250e-07,\n",
       "        1.32663979e-03, 2.66728676e-07],\n",
       "       [3.41016196e-13, 2.96827173e-04, 1.61199722e-07, 3.25128713e-06,\n",
       "        9.97959077e-01, 8.40027894e-07, 1.68405264e-03, 1.67965084e-07,\n",
       "        1.63446356e-17, 5.55845509e-05],\n",
       "       [3.30861857e-13, 5.73197845e-09, 6.75969281e-10, 8.25967153e-15,\n",
       "        7.70287335e-01, 2.29712695e-01, 4.47967929e-09, 9.64384406e-11,\n",
       "        8.77829365e-09, 1.43916061e-08],\n",
       "       [5.78255976e-14, 5.57185122e-05, 7.08099378e-07, 3.08945189e-08,\n",
       "        9.87711191e-01, 1.21603087e-02, 5.52259083e-09, 6.16359264e-12,\n",
       "        9.80273501e-12, 7.20198295e-05],\n",
       "       [3.51455112e-13, 2.55870600e-06, 4.34824572e-11, 1.66463834e-13,\n",
       "        9.99958515e-01, 3.88736953e-05, 1.95603267e-08, 5.83530010e-14,\n",
       "        1.30230288e-11, 2.85257129e-09],\n",
       "       [6.06779071e-11, 9.63378012e-01, 6.05960395e-06, 2.46039712e-12,\n",
       "        2.11939609e-04, 3.57315578e-02, 1.24479513e-07, 1.97436183e-08,\n",
       "        1.24781863e-09, 6.72300288e-04],\n",
       "       [6.96319613e-15, 1.97813613e-03, 2.81297598e-05, 7.30065675e-10,\n",
       "        5.54366887e-01, 1.45874056e-03, 8.61626044e-02, 4.09686936e-06,\n",
       "        2.72437739e-10, 3.56001407e-01],\n",
       "       [3.29181435e-16, 1.03028626e-07, 1.31053357e-09, 5.43276361e-13,\n",
       "        1.49632688e-03, 9.98503566e-01, 2.82660592e-12, 6.53640380e-12,\n",
       "        1.21477145e-15, 3.03835318e-10],\n",
       "       [1.95686020e-15, 1.08627516e-08, 8.06190386e-08, 6.37802087e-15,\n",
       "        9.28236902e-01, 3.27619277e-02, 3.90010737e-02, 4.71030685e-14,\n",
       "        4.25213033e-12, 5.14896792e-10],\n",
       "       [5.81427979e-15, 3.24822613e-09, 2.92737070e-08, 9.84076610e-15,\n",
       "        1.49752811e-01, 1.29676540e-04, 1.06841640e-06, 3.96376074e-12,\n",
       "        1.02733967e-12, 8.50116432e-01],\n",
       "       [8.30029361e-12, 2.49639726e-07, 1.45918268e-04, 1.11215215e-07,\n",
       "        4.20616707e-03, 9.95640993e-01, 1.96884375e-08, 4.25391432e-14,\n",
       "        2.66896228e-15, 6.58750014e-06],\n",
       "       [2.97671200e-16, 2.72677769e-09, 1.14201544e-06, 5.06102059e-15,\n",
       "        9.99998569e-01, 2.52195463e-07, 8.98875196e-09, 1.54536757e-13,\n",
       "        3.65775551e-15, 1.94937027e-08],\n",
       "       [1.60064738e-13, 8.79987492e-04, 9.78718890e-06, 1.07344473e-04,\n",
       "        5.85203588e-01, 6.61791041e-02, 3.43069375e-01, 3.99988930e-04,\n",
       "        3.89933582e-13, 4.15078131e-03],\n",
       "       [4.62635102e-16, 1.94999734e-06, 3.68139520e-03, 2.16768625e-09,\n",
       "        9.96044576e-01, 1.51317392e-04, 1.20790399e-04, 7.33411541e-13,\n",
       "        2.42272874e-15, 2.87974213e-08],\n",
       "       [1.21985096e-11, 6.51104585e-07, 1.02766640e-09, 1.26510002e-07,\n",
       "        1.91956311e-02, 2.16925547e-01, 1.05357489e-09, 5.93783744e-10,\n",
       "        1.09959278e-10, 7.63877988e-01],\n",
       "       [8.93760182e-17, 1.52173689e-05, 1.59868159e-05, 1.42983743e-06,\n",
       "        3.69229178e-06, 9.99962687e-01, 2.77265932e-10, 1.76747905e-11,\n",
       "        4.54682190e-13, 1.05828315e-06],\n",
       "       [1.14476158e-10, 2.46449630e-03, 3.96083258e-02, 4.97114489e-15,\n",
       "        8.60515749e-04, 1.68880317e-04, 3.95665971e-08, 7.58290661e-14,\n",
       "        5.36561962e-10, 9.56897736e-01],\n",
       "       [1.40602126e-17, 5.97294942e-02, 5.96301164e-04, 8.39835285e-11,\n",
       "        1.14164478e-03, 9.35804129e-01, 2.72734393e-03, 1.50750332e-11,\n",
       "        8.49521564e-10, 9.85826773e-07],\n",
       "       [1.08705406e-12, 1.69188771e-02, 3.03009301e-02, 4.28802306e-12,\n",
       "        9.51352119e-01, 3.49384238e-04, 6.74560170e-06, 9.72434910e-10,\n",
       "        1.07183738e-03, 1.35258063e-07],\n",
       "       [5.36908192e-11, 5.77611615e-07, 1.02773454e-04, 1.49404990e-18,\n",
       "        3.57310945e-08, 9.89718139e-01, 1.01343105e-02, 1.01927158e-12,\n",
       "        1.38623875e-06, 4.27189334e-05],\n",
       "       [5.52258017e-16, 4.45021875e-03, 2.10061057e-06, 2.90976942e-07,\n",
       "        9.88199353e-01, 7.28020398e-03, 5.49201941e-05, 1.14004584e-08,\n",
       "        3.14297655e-12, 1.29142627e-05],\n",
       "       [3.57215104e-12, 4.31235208e-08, 3.22709665e-10, 6.37898819e-16,\n",
       "        9.99971092e-01, 2.86977483e-05, 4.00936973e-09, 2.61161513e-12,\n",
       "        6.02924066e-15, 1.06268033e-07],\n",
       "       [3.94410795e-14, 4.46052297e-07, 6.34471144e-05, 4.03402645e-08,\n",
       "        9.99889672e-01, 7.34313915e-07, 4.56355665e-05, 3.97866323e-10,\n",
       "        8.70565810e-15, 2.44010034e-10],\n",
       "       [3.63631515e-14, 1.81958769e-02, 1.57627209e-08, 8.22042545e-10,\n",
       "        6.39873073e-02, 5.19089401e-01, 3.97785991e-01, 3.17171462e-08,\n",
       "        3.10990513e-12, 9.41413862e-04],\n",
       "       [8.25100486e-14, 4.92030871e-04, 7.12775773e-07, 3.68822030e-12,\n",
       "        5.90801892e-06, 3.73315960e-02, 2.97510717e-03, 2.92174895e-10,\n",
       "        1.04417877e-10, 9.59194660e-01],\n",
       "       [9.07435016e-09, 1.14511627e-08, 3.67339453e-05, 5.57162962e-11,\n",
       "        9.99526024e-01, 4.19798773e-04, 1.74014694e-05, 4.90138580e-16,\n",
       "        6.38579684e-13, 2.36360016e-08],\n",
       "       [1.60130766e-14, 5.08026481e-01, 2.11144798e-04, 1.24149546e-02,\n",
       "        8.11573565e-02, 6.03335164e-03, 3.91018808e-01, 1.13787793e-03,\n",
       "        3.09529691e-14, 1.33817057e-09],\n",
       "       [4.11085716e-13, 1.09314125e-04, 1.73691740e-06, 2.75177490e-02,\n",
       "        8.08697492e-02, 8.91483665e-01, 6.75065257e-06, 1.09431412e-05,\n",
       "        1.42272617e-16, 5.60807543e-08],\n",
       "       [1.74352116e-18, 3.39252711e-06, 1.63191927e-09, 3.09346136e-13,\n",
       "        9.99590099e-01, 1.04948472e-09, 4.02327190e-04, 2.58340246e-12,\n",
       "        5.50725152e-16, 4.23086112e-06],\n",
       "       [2.49745240e-19, 5.27587929e-07, 2.61058676e-06, 4.11548573e-12,\n",
       "        1.47404596e-01, 8.52592289e-01, 1.67636779e-10, 8.88798236e-16,\n",
       "        1.58120638e-14, 1.57550115e-08],\n",
       "       [1.29507494e-15, 1.56885143e-02, 5.85847338e-05, 6.82988555e-10,\n",
       "        9.69599962e-01, 9.63208452e-03, 5.01985755e-03, 1.30636571e-10,\n",
       "        9.90283507e-18, 1.07534765e-06],\n",
       "       [3.22500610e-10, 3.62276547e-02, 4.63281214e-01, 3.94458771e-02,\n",
       "        4.43452269e-01, 1.75901838e-02, 1.44836918e-07, 2.72742250e-06,\n",
       "        2.93546194e-11, 1.08499476e-09],\n",
       "       [9.22978881e-18, 8.99416150e-08, 2.67940488e-12, 1.38842913e-14,\n",
       "        9.81448650e-01, 1.85512491e-02, 1.03046960e-10, 3.69401106e-15,\n",
       "        2.05438249e-15, 2.91244842e-08],\n",
       "       [5.20194348e-12, 5.69239433e-04, 5.83475823e-10, 1.72813106e-05,\n",
       "        5.26473284e-01, 4.66386318e-01, 6.55368436e-03, 1.56087651e-07,\n",
       "        6.01851147e-09, 2.58951416e-10],\n",
       "       [1.56403196e-10, 7.98318826e-04, 2.67124437e-06, 5.36546577e-06,\n",
       "        6.75595641e-01, 3.23585391e-01, 1.18157895e-05, 7.08259051e-07,\n",
       "        5.90345728e-08, 3.61267816e-09],\n",
       "       [3.63442991e-15, 4.11120057e-01, 1.73791125e-03, 1.13636976e-04,\n",
       "        5.85849941e-01, 7.43398559e-04, 4.21062141e-04, 3.40863231e-08,\n",
       "        2.67226785e-17, 1.40113816e-05],\n",
       "       [5.82289201e-18, 3.20888944e-07, 3.68303017e-13, 9.22426609e-16,\n",
       "        9.99999642e-01, 1.13929381e-08, 3.13770689e-12, 1.88126299e-17,\n",
       "        3.13075293e-20, 2.80583667e-10],\n",
       "       [5.57241025e-19, 8.69452720e-07, 1.26734740e-04, 2.35641872e-14,\n",
       "        9.99869466e-01, 9.50510014e-07, 4.85275891e-08, 7.08685732e-16,\n",
       "        1.97681707e-17, 1.97999793e-06],\n",
       "       [1.89765217e-12, 2.99350219e-03, 5.30958211e-08, 3.91611854e-10,\n",
       "        9.91921306e-01, 5.04799280e-03, 3.71399401e-05, 6.00948328e-14,\n",
       "        9.89393165e-14, 2.54276267e-09],\n",
       "       [4.18917058e-16, 4.78847462e-10, 1.01298814e-04, 3.72655999e-15,\n",
       "        4.66449856e-04, 9.99397933e-01, 6.12514577e-06, 1.72354256e-10,\n",
       "        1.95342466e-07, 2.79587784e-05],\n",
       "       [9.41883941e-13, 7.69527674e-01, 2.06346129e-04, 7.07829108e-12,\n",
       "        2.29867473e-01, 3.94447707e-04, 3.13748842e-06, 9.38802259e-07,\n",
       "        7.71236634e-12, 1.16764864e-09],\n",
       "       [5.01341156e-13, 1.20364639e-05, 3.65161477e-03, 3.62771721e-06,\n",
       "        1.40086472e-01, 8.52111161e-01, 2.86214163e-05, 4.97275892e-08,\n",
       "        2.40514855e-05, 4.08238219e-03],\n",
       "       [4.41389100e-17, 2.60761403e-03, 1.59405332e-04, 1.40747679e-05,\n",
       "        1.01579487e-01, 5.40836826e-02, 1.29962091e-05, 7.11663194e-12,\n",
       "        1.53693652e-16, 8.41542721e-01],\n",
       "       [1.29255073e-09, 9.61261743e-04, 3.11685575e-08, 9.73098934e-01,\n",
       "        2.19061915e-02, 3.54873715e-03, 1.38626990e-06, 6.87008228e-10,\n",
       "        1.18905162e-16, 4.83464974e-04],\n",
       "       [2.47927102e-18, 3.38153186e-04, 1.49771384e-09, 1.05137522e-11,\n",
       "        3.98113247e-04, 9.98968184e-01, 2.95188947e-04, 6.35950710e-12,\n",
       "        2.19012041e-14, 4.12405313e-07],\n",
       "       [7.64678487e-10, 1.32559359e-01, 4.44612611e-04, 2.93541287e-13,\n",
       "        8.08936238e-01, 6.40875078e-04, 5.68143874e-02, 5.11696620e-04,\n",
       "        2.86773161e-09, 9.28285808e-05],\n",
       "       [2.50090743e-19, 3.92516796e-07, 1.78775184e-09, 1.00313844e-12,\n",
       "        9.99993443e-01, 4.32277511e-06, 8.36129061e-07, 1.44665198e-14,\n",
       "        4.59138825e-15, 9.35793878e-07],\n",
       "       [1.11507732e-16, 2.24542305e-06, 3.06678700e-08, 3.06535963e-10,\n",
       "        7.75480032e-01, 1.61326770e-03, 7.50574036e-05, 8.28337676e-11,\n",
       "        1.74777648e-09, 2.22829342e-01],\n",
       "       [1.70016826e-14, 2.95387836e-05, 6.26070891e-04, 1.38977327e-07,\n",
       "        9.99322414e-01, 1.37984089e-05, 5.60614694e-07, 2.04528351e-06,\n",
       "        1.55592567e-16, 5.38227550e-06],\n",
       "       [2.40078248e-13, 4.31564189e-02, 1.50741066e-03, 1.32281546e-08,\n",
       "        9.20409143e-01, 1.65597477e-04, 3.46321426e-02, 1.27622508e-04,\n",
       "        1.39679752e-11, 1.72009402e-06],\n",
       "       [3.66588159e-20, 5.88102068e-07, 5.26597743e-09, 1.84049325e-12,\n",
       "        9.90742028e-01, 9.17240325e-03, 5.26443773e-06, 3.19310333e-12,\n",
       "        1.66561643e-14, 7.97430621e-05],\n",
       "       [3.98672547e-16, 2.35087487e-06, 6.61512942e-08, 4.50720461e-13,\n",
       "        9.99348760e-01, 6.48728572e-04, 4.63028771e-09, 4.73557088e-12,\n",
       "        5.23407652e-13, 4.06969747e-08]], dtype=float32)>"
      ]
     },
     "execution_count": 41,
     "metadata": {},
     "output_type": "execute_result"
    }
   ],
   "source": [
    "softmax(output)"
   ]
  },
  {
   "cell_type": "code",
   "execution_count": 42,
   "metadata": {
    "colab": {
     "base_uri": "https://localhost:8080/",
     "height": 1000
    },
    "colab_type": "code",
    "id": "mPtaB817oTTe",
    "outputId": "cada472f-7d69-4581-9d63-d8d62f2f9830",
    "scrolled": true
   },
   "outputs": [
    {
     "name": "stdout",
     "output_type": "stream",
     "text": [
      "The probabilities have shape: (64, 10) \n",
      "\n",
      "Sum of probabilities for Image 1: 1.0\n",
      "Sum of probabilities for Image 2: 1.0\n",
      "Sum of probabilities for Image 3: 1.0\n",
      "Sum of probabilities for Image 4: 1.0\n",
      "Sum of probabilities for Image 5: 1.0\n",
      "Sum of probabilities for Image 6: 1.0\n",
      "Sum of probabilities for Image 7: 1.0\n",
      "Sum of probabilities for Image 8: 1.0\n",
      "Sum of probabilities for Image 9: 1.0\n",
      "Sum of probabilities for Image 10: 1.0\n",
      "Sum of probabilities for Image 11: 1.0\n",
      "Sum of probabilities for Image 12: 1.0\n",
      "Sum of probabilities for Image 13: 1.0\n",
      "Sum of probabilities for Image 14: 1.0\n",
      "Sum of probabilities for Image 15: 1.0\n",
      "Sum of probabilities for Image 16: 1.0\n",
      "Sum of probabilities for Image 17: 1.0\n",
      "Sum of probabilities for Image 18: 1.0\n",
      "Sum of probabilities for Image 19: 1.0\n",
      "Sum of probabilities for Image 20: 1.0\n",
      "Sum of probabilities for Image 21: 1.0\n",
      "Sum of probabilities for Image 22: 1.0\n",
      "Sum of probabilities for Image 23: 1.0\n",
      "Sum of probabilities for Image 24: 1.0\n",
      "Sum of probabilities for Image 25: 1.0\n",
      "Sum of probabilities for Image 26: 1.0\n",
      "Sum of probabilities for Image 27: 1.0\n",
      "Sum of probabilities for Image 28: 1.0\n",
      "Sum of probabilities for Image 29: 1.0\n",
      "Sum of probabilities for Image 30: 1.0\n",
      "Sum of probabilities for Image 31: 1.0\n",
      "Sum of probabilities for Image 32: 1.0\n",
      "Sum of probabilities for Image 33: 1.0\n",
      "Sum of probabilities for Image 34: 1.0\n",
      "Sum of probabilities for Image 35: 1.0\n",
      "Sum of probabilities for Image 36: 1.0\n",
      "Sum of probabilities for Image 37: 1.0\n",
      "Sum of probabilities for Image 38: 1.0\n",
      "Sum of probabilities for Image 39: 1.0\n",
      "Sum of probabilities for Image 40: 1.0\n",
      "Sum of probabilities for Image 41: 1.0\n",
      "Sum of probabilities for Image 42: 1.0\n",
      "Sum of probabilities for Image 43: 1.0\n",
      "Sum of probabilities for Image 44: 1.0\n",
      "Sum of probabilities for Image 45: 1.0\n",
      "Sum of probabilities for Image 46: 1.0\n",
      "Sum of probabilities for Image 47: 1.0\n",
      "Sum of probabilities for Image 48: 1.0\n",
      "Sum of probabilities for Image 49: 1.0\n",
      "Sum of probabilities for Image 50: 1.0\n",
      "Sum of probabilities for Image 51: 1.0\n",
      "Sum of probabilities for Image 52: 1.0\n",
      "Sum of probabilities for Image 53: 1.0\n",
      "Sum of probabilities for Image 54: 1.0\n",
      "Sum of probabilities for Image 55: 1.0\n",
      "Sum of probabilities for Image 56: 1.0\n",
      "Sum of probabilities for Image 57: 1.0\n",
      "Sum of probabilities for Image 58: 1.0\n",
      "Sum of probabilities for Image 59: 1.0\n",
      "Sum of probabilities for Image 60: 1.0\n",
      "Sum of probabilities for Image 61: 1.0\n",
      "Sum of probabilities for Image 62: 1.0\n",
      "Sum of probabilities for Image 63: 1.0\n",
      "Sum of probabilities for Image 64: 1.0\n"
     ]
    }
   ],
   "source": [
    "## Solution\n",
    "def softmax(x):\n",
    "    return tf.exp(x) / tf.reduce_sum(tf.exp(x), axis = 1, keepdims = True)\n",
    "\n",
    "# Apply softmax to the output\n",
    "probabilities = softmax(output)\n",
    "\n",
    "# Print the shape of the probabilities. Should be (64, 10).\n",
    "print('The probabilities have shape:', probabilities.shape, '\\n')\n",
    "\n",
    "\n",
    "# The sum of probabilities for each of the 64 images should be 1\n",
    "sum_all_prob = tf.reduce_sum(probabilities, axis = 1).numpy()\n",
    "\n",
    "# Print the sum of the probabilities for each image.\n",
    "for i, prob_sum in enumerate(sum_all_prob):\n",
    "    print('Sum of probabilities for Image {}: {:.1f}'.format(i+1, prob_sum))"
   ]
  },
  {
   "cell_type": "markdown",
   "metadata": {
    "colab_type": "text",
    "id": "GmUrxgU5dK3w"
   },
   "source": [
    "## Building Neural Networks with TensorFlow and Keras\n",
    "\n",
    "Keras is a high-level API to build and train neural networks. `tf.keras` is TensorFlow's implementation of the Keras API. In Keras, deep learning models are constructed by connecting configurable building blocks called **layers**. The most common type of model is a stack of layers called a **Sequential** model. The model is called sequential because it allows a tensor to be passed sequentially through the operations in each layer. In TensorFlow, the sequential model is implemented with `tf.keras.Sequential`. \n",
    "\n",
    "In the cell below, we will use a Keras sequential model to build the same fully-connected neural network that we built in the previous section. Our sequential model will have three layers:\n",
    "\n",
    "* **Input Layer:** `tf.keras.layers.Flatten` — This layer flattens the images by transforming a 2d-array of 28 $\\times$ 28 pixels, to a 1d-array of 784 pixels (28 $\\times$ 28 = 784). The first layer in a Sequential model needs to know the shape of the input tensors to the model. Since, this is our first layer, we need to specify the shape of our input tensors using the `input_shape` argument. The `input_shape` is specified using a tuple that contains the size of our images and the number of color channels. It is important to note that we don't have to include the batch size in the tuple. The tuple can have integers or `None` entries, where `None` entries indicate that any positive integer may be expected.\n",
    "\n",
    "* **Hidden Layer:** `tf.keras.layers.Dense` — A fully-connected (also known as densely connected) layer. For this layer we need to specify the number of neurons (or nodes) we want to use and the activation function. Note that we don't have to specify the shape of the input tensor to this layer, since Keras performs automatic shape inference for all layers except for the first layer. In this particular case, we are going to use `256` neurons with a `sigmoid` activation fucntion. \n",
    "\n",
    "* **Output Layer:** `tf.keras.layers.Dense` — A fully-connected layer with 10 neurons and a *softmax* activation function. The output values will represent the probability that the image is a particular digit. The sum of all the 10 nodes values is 1."
   ]
  },
  {
   "cell_type": "code",
   "execution_count": 15,
   "metadata": {
    "colab": {
     "base_uri": "https://localhost:8080/",
     "height": 255
    },
    "colab_type": "code",
    "id": "tujWgGJ1emo_",
    "outputId": "26949733-4eb1-4f57-9d70-a2e39281d755",
    "scrolled": true
   },
   "outputs": [
    {
     "name": "stdout",
     "output_type": "stream",
     "text": [
      "Model: \"sequential_1\"\n",
      "_________________________________________________________________\n",
      "Layer (type)                 Output Shape              Param #   \n",
      "=================================================================\n",
      "flatten_1 (Flatten)          (None, 784)               0         \n",
      "_________________________________________________________________\n",
      "dense_3 (Dense)              (None, 256)               200960    \n",
      "_________________________________________________________________\n",
      "dense_4 (Dense)              (None, 10)                2570      \n",
      "=================================================================\n",
      "Total params: 203,530\n",
      "Trainable params: 203,530\n",
      "Non-trainable params: 0\n",
      "_________________________________________________________________\n"
     ]
    }
   ],
   "source": [
    "model = tf.keras.Sequential([\n",
    "        tf.keras.layers.Flatten(input_shape = (28,28,1)),\n",
    "        tf.keras.layers.Dense(256, activation = 'sigmoid'),\n",
    "        tf.keras.layers.Dense(10, activation = 'softmax')\n",
    "])\n",
    "\n",
    "model.summary()"
   ]
  },
  {
   "cell_type": "markdown",
   "metadata": {
    "colab_type": "text",
    "id": "AGqf8FCZ1bAs"
   },
   "source": [
    "### Your Turn to Build a Neural Network\n",
    "\n",
    "<img src=\"assets/mlp_mnist.png\" width=600px>\n",
    "\n",
    "> **Exercise:** Create a network with 784 input units, a hidden layer with 128 units and a ReLU activation, then a hidden layer with 64 units and a ReLU activation, and finally an output layer with 10 units and a softmax activation function. You can use a ReLU activation function by setting `activation = 'relu'`."
   ]
  },
  {
   "cell_type": "code",
   "execution_count": 13,
   "metadata": {
    "colab": {
     "base_uri": "https://localhost:8080/",
     "height": 289
    },
    "colab_type": "code",
    "id": "l-s_J0NC1jdH",
    "outputId": "47ce3f16-a287-44df-a0fd-015a5601f29f"
   },
   "outputs": [
    {
     "name": "stdout",
     "output_type": "stream",
     "text": [
      "Model: \"sequential\"\n",
      "_________________________________________________________________\n",
      "Layer (type)                 Output Shape              Param #   \n",
      "=================================================================\n",
      "flatten (Flatten)            (None, 784)               0         \n",
      "_________________________________________________________________\n",
      "dense (Dense)                (None, 128)               100480    \n",
      "_________________________________________________________________\n",
      "dense_1 (Dense)              (None, 64)                8256      \n",
      "_________________________________________________________________\n",
      "dense_2 (Dense)              (None, 10)                650       \n",
      "=================================================================\n",
      "Total params: 109,386\n",
      "Trainable params: 109,386\n",
      "Non-trainable params: 0\n",
      "_________________________________________________________________\n"
     ]
    }
   ],
   "source": [
    "## Solution\n",
    "my_model_1 = tf.keras.Sequential([tf.keras.layers.Flatten(input_shape=(28,28,1)),\n",
    "                                  tf.keras.layers.Dense(128, activation='relu'),\n",
    "                                  tf.keras.layers.Dense(64, activation='relu'),\n",
    "                                  tf.keras.layers.Dense(10, activation='softmax')\n",
    "])\n",
    "\n",
    "my_model_1.summary()"
   ]
  },
  {
   "cell_type": "markdown",
   "metadata": {
    "colab_type": "text",
    "id": "wdBvHoq5jnkt"
   },
   "source": [
    "## Activation Functions\n",
    "\n",
    "So far we've only been looking at the softmax activation, but in general any function can be used as an activation function. The only requirement is that for a network to approximate a non-linear function, the activation functions must be non-linear. Here are a few more examples of common activation functions: Tanh (hyperbolic tangent), and ReLU (rectified linear unit).\n",
    "\n",
    "<img src=\"assets/activation.png\" width=700px>\n",
    "\n",
    "In practice, the ReLU function is used almost exclusively as the activation function for hidden layers."
   ]
  },
  {
   "cell_type": "markdown",
   "metadata": {
    "colab_type": "text",
    "id": "79odRUgEj8_e"
   },
   "source": [
    "## Looking at the Weights and Biases\n",
    "\n",
    "Keras automatically initializes the weights and biases. The weights and biases are tensors attached to each of the layers you defined in your model. We can get all the weights and biases from our model by using the `get_weights` method. The `get_weights` method returns a list of all the weight and bias tensors in our model as NumPy arrays."
   ]
  },
  {
   "cell_type": "code",
   "execution_count": 16,
   "metadata": {
    "colab": {
     "base_uri": "https://localhost:8080/",
     "height": 34
    },
    "colab_type": "code",
    "id": "DxZlaMjwe-Lk",
    "outputId": "9992e8d6-0874-49d0-d01c-ab0f21a6c5f3",
    "scrolled": true
   },
   "outputs": [
    {
     "name": "stdout",
     "output_type": "stream",
     "text": [
      "<class 'list'>\n"
     ]
    }
   ],
   "source": [
    "model_weights_biases = model.get_weights()\n",
    "\n",
    "print(type(model_weights_biases))"
   ]
  },
  {
   "cell_type": "code",
   "execution_count": 17,
   "metadata": {
    "colab": {
     "base_uri": "https://localhost:8080/",
     "height": 748
    },
    "colab_type": "code",
    "id": "Zktwcu9ZfAsT",
    "outputId": "ebd43ad2-06ee-4d75-a14e-c1f5f18f236e"
   },
   "outputs": [
    {
     "name": "stdout",
     "output_type": "stream",
     "text": [
      "\n",
      "There are 4 NumPy ndarrays in our list\n",
      "\n",
      "[array([[ 0.02500046, -0.01218321,  0.02515499, ...,  0.06565534,\n",
      "         0.00115298,  0.01374156],\n",
      "       [-0.06426883, -0.00617924,  0.02449343, ...,  0.07293187,\n",
      "        -0.03734646,  0.02656817],\n",
      "       [ 0.06742059, -0.05253043,  0.01716933, ..., -0.04271943,\n",
      "        -0.07348038, -0.04043163],\n",
      "       ...,\n",
      "       [-0.03698487,  0.02604181,  0.02884142, ...,  0.06007199,\n",
      "        -0.03539787,  0.03079148],\n",
      "       [-0.00141949,  0.06590693, -0.04076721, ...,  0.03613618,\n",
      "        -0.04940506,  0.03591525],\n",
      "       [-0.03003855, -0.05088357,  0.04092114, ..., -0.03500974,\n",
      "         0.03871232, -0.04941006]], dtype=float32), array([0., 0., 0., 0., 0., 0., 0., 0., 0., 0., 0., 0., 0., 0., 0., 0., 0.,\n",
      "       0., 0., 0., 0., 0., 0., 0., 0., 0., 0., 0., 0., 0., 0., 0., 0., 0.,\n",
      "       0., 0., 0., 0., 0., 0., 0., 0., 0., 0., 0., 0., 0., 0., 0., 0., 0.,\n",
      "       0., 0., 0., 0., 0., 0., 0., 0., 0., 0., 0., 0., 0., 0., 0., 0., 0.,\n",
      "       0., 0., 0., 0., 0., 0., 0., 0., 0., 0., 0., 0., 0., 0., 0., 0., 0.,\n",
      "       0., 0., 0., 0., 0., 0., 0., 0., 0., 0., 0., 0., 0., 0., 0., 0., 0.,\n",
      "       0., 0., 0., 0., 0., 0., 0., 0., 0., 0., 0., 0., 0., 0., 0., 0., 0.,\n",
      "       0., 0., 0., 0., 0., 0., 0., 0., 0., 0., 0., 0., 0., 0., 0., 0., 0.,\n",
      "       0., 0., 0., 0., 0., 0., 0., 0., 0., 0., 0., 0., 0., 0., 0., 0., 0.,\n",
      "       0., 0., 0., 0., 0., 0., 0., 0., 0., 0., 0., 0., 0., 0., 0., 0., 0.,\n",
      "       0., 0., 0., 0., 0., 0., 0., 0., 0., 0., 0., 0., 0., 0., 0., 0., 0.,\n",
      "       0., 0., 0., 0., 0., 0., 0., 0., 0., 0., 0., 0., 0., 0., 0., 0., 0.,\n",
      "       0., 0., 0., 0., 0., 0., 0., 0., 0., 0., 0., 0., 0., 0., 0., 0., 0.,\n",
      "       0., 0., 0., 0., 0., 0., 0., 0., 0., 0., 0., 0., 0., 0., 0., 0., 0.,\n",
      "       0., 0., 0., 0., 0., 0., 0., 0., 0., 0., 0., 0., 0., 0., 0., 0., 0.,\n",
      "       0.], dtype=float32), array([[-0.09571758,  0.14549384,  0.00735326, ...,  0.12259385,\n",
      "         0.07355824, -0.08254448],\n",
      "       [ 0.02278407, -0.1071379 ,  0.13760862, ...,  0.01517467,\n",
      "         0.06597926, -0.12943052],\n",
      "       [-0.03838754,  0.04247992, -0.05618509, ..., -0.03717528,\n",
      "        -0.10182431,  0.1141555 ],\n",
      "       ...,\n",
      "       [-0.1307779 , -0.04399516,  0.03508273, ..., -0.04152808,\n",
      "        -0.00147964,  0.09995902],\n",
      "       [-0.00210215, -0.05514681,  0.08387673, ..., -0.06954987,\n",
      "         0.00938055,  0.10463274],\n",
      "       [ 0.02600671,  0.09118524,  0.11147726, ..., -0.06998651,\n",
      "         0.10737291,  0.0218323 ]], dtype=float32), array([0., 0., 0., 0., 0., 0., 0., 0., 0., 0.], dtype=float32)]\n"
     ]
    }
   ],
   "source": [
    "print('\\nThere are {:,} NumPy ndarrays in our list\\n'.format(len(model_weights_biases)))\n",
    "\n",
    "print(model_weights_biases)"
   ]
  },
  {
   "cell_type": "markdown",
   "metadata": {
    "colab_type": "text",
    "id": "IEOFFR8Yi829"
   },
   "source": [
    "We can also get the weights and biases for a specific layer by using the `get_layer` method. In this case we first specify the layer we want by using the `index` argument and the apply the `get_weights` method as we did before. For example, to get the weights and biases of the first layer of our sequential model we will use:\n",
    "\n",
    "```python\n",
    "weights = model.get_layer(index=0).get_weights()[0]\n",
    "biases = model.get_layer(index=0).get_weights()[1]\n",
    "\n",
    "```\n",
    "\n",
    "Notice, that we used `index=0` to get the first layer of our model which in this case is a `tf.keras.layers.Flatten`. Since this layer just flattens our input, it has no weights or biases. Therefore, in this case, the layer with `index=0` has no weights or biases, so calling `get_weights()[0]` will produce an error because  `get_weights()` will return an empty list (`[]`). So, when you are getting the weights and biases from each layer you should check first whether the layer has any weights or biases at all. \n",
    "\n",
    "Alternatively, you can also use the `layers` method to get a list of the layers of your model. You can then loop through the layers and check if they have weights before calling `get_weights()`. Let's see an example:"
   ]
  },
  {
   "cell_type": "code",
   "execution_count": 18,
   "metadata": {
    "colab": {
     "base_uri": "https://localhost:8080/",
     "height": 68
    },
    "colab_type": "code",
    "id": "tcWGSl2rhMif",
    "outputId": "84d94a15-3dec-4567-8bba-874ffdbd0c7f"
   },
   "outputs": [
    {
     "data": {
      "text/plain": [
       "[<tensorflow.python.keras.layers.core.Flatten at 0x7f02778a23d0>,\n",
       " <tensorflow.python.keras.layers.core.Dense at 0x7f02778a2610>,\n",
       " <tensorflow.python.keras.layers.core.Dense at 0x7f02778a2950>]"
      ]
     },
     "execution_count": 18,
     "metadata": {},
     "output_type": "execute_result"
    }
   ],
   "source": [
    "# Dislay the layers in our model\n",
    "model.layers"
   ]
  },
  {
   "cell_type": "code",
   "execution_count": 19,
   "metadata": {
    "colab": {
     "base_uri": "https://localhost:8080/",
     "height": 1000
    },
    "colab_type": "code",
    "id": "Lw1M2CWmfDU3",
    "outputId": "0e3ad837-4ecc-42c5-e10f-12b28635acb5"
   },
   "outputs": [
    {
     "name": "stdout",
     "output_type": "stream",
     "text": [
      "\n",
      "Layer 0: flatten_1\n",
      "\n",
      "This layer has no weights or biases.\n",
      "\n",
      "------------------------\n",
      "\n",
      "Layer 1: dense_3\n",
      "\n",
      "• Weights:\n",
      " [[ 0.02500046 -0.01218321  0.02515499 ...  0.06565534  0.00115298\n",
      "   0.01374156]\n",
      " [-0.06426883 -0.00617924  0.02449343 ...  0.07293187 -0.03734646\n",
      "   0.02656817]\n",
      " [ 0.06742059 -0.05253043  0.01716933 ... -0.04271943 -0.07348038\n",
      "  -0.04043163]\n",
      " ...\n",
      " [-0.03698487  0.02604181  0.02884142 ...  0.06007199 -0.03539787\n",
      "   0.03079148]\n",
      " [-0.00141949  0.06590693 -0.04076721 ...  0.03613618 -0.04940506\n",
      "   0.03591525]\n",
      " [-0.03003855 -0.05088357  0.04092114 ... -0.03500974  0.03871232\n",
      "  -0.04941006]]\n",
      "\n",
      "• Biases:\n",
      " [0. 0. 0. 0. 0. 0. 0. 0. 0. 0. 0. 0. 0. 0. 0. 0. 0. 0. 0. 0. 0. 0. 0. 0.\n",
      " 0. 0. 0. 0. 0. 0. 0. 0. 0. 0. 0. 0. 0. 0. 0. 0. 0. 0. 0. 0. 0. 0. 0. 0.\n",
      " 0. 0. 0. 0. 0. 0. 0. 0. 0. 0. 0. 0. 0. 0. 0. 0. 0. 0. 0. 0. 0. 0. 0. 0.\n",
      " 0. 0. 0. 0. 0. 0. 0. 0. 0. 0. 0. 0. 0. 0. 0. 0. 0. 0. 0. 0. 0. 0. 0. 0.\n",
      " 0. 0. 0. 0. 0. 0. 0. 0. 0. 0. 0. 0. 0. 0. 0. 0. 0. 0. 0. 0. 0. 0. 0. 0.\n",
      " 0. 0. 0. 0. 0. 0. 0. 0. 0. 0. 0. 0. 0. 0. 0. 0. 0. 0. 0. 0. 0. 0. 0. 0.\n",
      " 0. 0. 0. 0. 0. 0. 0. 0. 0. 0. 0. 0. 0. 0. 0. 0. 0. 0. 0. 0. 0. 0. 0. 0.\n",
      " 0. 0. 0. 0. 0. 0. 0. 0. 0. 0. 0. 0. 0. 0. 0. 0. 0. 0. 0. 0. 0. 0. 0. 0.\n",
      " 0. 0. 0. 0. 0. 0. 0. 0. 0. 0. 0. 0. 0. 0. 0. 0. 0. 0. 0. 0. 0. 0. 0. 0.\n",
      " 0. 0. 0. 0. 0. 0. 0. 0. 0. 0. 0. 0. 0. 0. 0. 0. 0. 0. 0. 0. 0. 0. 0. 0.\n",
      " 0. 0. 0. 0. 0. 0. 0. 0. 0. 0. 0. 0. 0. 0. 0. 0.]\n",
      "\n",
      "This layer has a total of 200,704 weights and 256 biases\n",
      "\n",
      "------------------------\n",
      "\n",
      "Layer 2: dense_4\n",
      "\n",
      "• Weights:\n",
      " [[-0.09571758  0.14549384  0.00735326 ...  0.12259385  0.07355824\n",
      "  -0.08254448]\n",
      " [ 0.02278407 -0.1071379   0.13760862 ...  0.01517467  0.06597926\n",
      "  -0.12943052]\n",
      " [-0.03838754  0.04247992 -0.05618509 ... -0.03717528 -0.10182431\n",
      "   0.1141555 ]\n",
      " ...\n",
      " [-0.1307779  -0.04399516  0.03508273 ... -0.04152808 -0.00147964\n",
      "   0.09995902]\n",
      " [-0.00210215 -0.05514681  0.08387673 ... -0.06954987  0.00938055\n",
      "   0.10463274]\n",
      " [ 0.02600671  0.09118524  0.11147726 ... -0.06998651  0.10737291\n",
      "   0.0218323 ]]\n",
      "\n",
      "• Biases:\n",
      " [0. 0. 0. 0. 0. 0. 0. 0. 0. 0.]\n",
      "\n",
      "This layer has a total of 2,560 weights and 10 biases\n",
      "\n",
      "------------------------\n"
     ]
    }
   ],
   "source": [
    "for i, layer in enumerate(model.layers):\n",
    "    \n",
    "    if len(layer.get_weights()) > 0:\n",
    "        w = layer.get_weights()[0]\n",
    "        b = layer.get_weights()[1]\n",
    "        \n",
    "        print('\\nLayer {}: {}\\n'.format(i, layer.name))\n",
    "        print('\\u2022 Weights:\\n', w)\n",
    "        print('\\n\\u2022 Biases:\\n', b)\n",
    "        print('\\nThis layer has a total of {:,} weights and {:,} biases'.format(w.size, b.size))\n",
    "        print('\\n------------------------')\n",
    "    \n",
    "    else:\n",
    "        print('\\nLayer {}: {}\\n'.format(i, layer.name))\n",
    "        print('This layer has no weights or biases.')\n",
    "        print('\\n------------------------')"
   ]
  },
  {
   "cell_type": "markdown",
   "metadata": {
    "colab_type": "text",
    "id": "t8TbtpkxGImY"
   },
   "source": [
    "As we can see, by default, all the biases are initialized to zero.\n",
    "\n",
    "On the other hand, by default, the weights are initialized using a Glorot uniform initializer that draws samples from a uniform distribution within \\[-`limit`, `limit`\\] where `limit` is `sqrt(6 / (fan_in + fan_out))` where `fan_in` is the number of input units in the weight tensor and `fan_out` is the number of output units in the weight tensor.\n",
    "\n",
    "In Keras, you can change the default initialization methods for the weights and biases. To know more about the available initializers check out the links below:\n",
    "\n",
    "* [Available initializers](https://keras.io/initializers/)\n",
    "\n",
    "* [Dense Layer](https://www.tensorflow.org/versions/r2.0/api_docs/python/tf/keras/layers/Dense)"
   ]
  },
  {
   "cell_type": "markdown",
   "metadata": {
    "colab_type": "text",
    "id": "tyHIkuwBkFTK"
   },
   "source": [
    "## Make Predictions\n",
    "\n",
    "To make predictions on a batch of images with our model we use the `.predict(image_batch)` method. This method takes the images in our batch, feeds them to our network, performs a forward pass, and outputs a NumPy ndarray of shape `(batch_size, num_classes)` with the predicted probabilities for each image in the batch. \n",
    "\n",
    "Since we have 64 images per batch (*i.e.* `batch_size = 64`) and our dataset has 10 classes (*i.e.* `num_classes = 10`), then our model will output an array of shape `(64,10)`. The rows in this array hold the predicted probabilities for our images. Consequently, the first row holds the predicted probabilities for the first image in our batch; the second row holds the predicted probabilities for the second image in our batch; the third row holds the predicted probabilities for the third image in our batch; and so on. In this case, the predicted probabilities consist of 10 values, that is, one probability per class. Therefore, for each of the 64 images in our batch we will have 10 probabilities. \n",
    "\n",
    "Let's plot our model's predicted probabilities for the first image in our batch."
   ]
  },
  {
   "cell_type": "code",
   "execution_count": 20,
   "metadata": {
    "colab": {
     "base_uri": "https://localhost:8080/",
     "height": 243
    },
    "colab_type": "code",
    "id": "MHMK-x15ju84",
    "outputId": "bac86697-a9d9-4a67-9166-ef53a8e33b2b"
   },
   "outputs": [
    {
     "data": {
      "image/png": "[encoded data removed]",
      "text/plain": [
       "<Figure size 432x648 with 2 Axes>"
      ]
     },
     "metadata": {
      "image/png": {
       "height": 235,
       "width": 424
      },
      "needs_background": "light"
     },
     "output_type": "display_data"
    }
   ],
   "source": [
    "for image_batch, label_batch in training_batches.take(1):\n",
    "    ps = model.predict(image_batch)\n",
    "    first_image = image_batch.numpy().squeeze()[0]\n",
    "\n",
    "\n",
    "fig, (ax1, ax2) = plt.subplots(figsize=(6,9), ncols=2)\n",
    "ax1.imshow(first_image, cmap = plt.cm.binary)\n",
    "ax1.axis('off')\n",
    "ax2.barh(np.arange(10), ps[0])\n",
    "ax2.set_aspect(0.1)\n",
    "ax2.set_yticks(np.arange(10))\n",
    "ax2.set_yticklabels(np.arange(10))\n",
    "ax2.set_title('Class Probability')\n",
    "ax2.set_xlim(0, 1.1)\n",
    "plt.tight_layout()"
   ]
  },
  {
   "cell_type": "markdown",
   "metadata": {
    "colab_type": "text",
    "id": "Nez7TYqwjzN0"
   },
   "source": [
    "As you can see above, our model gives every digit roughly the same probability. This means our network has basically no idea what the digit in the image is. This is because we haven't trained our model yet, so all the weights are random!"
   ]
  },
  {
   "cell_type": "markdown",
   "metadata": {
    "colab_type": "text",
    "id": "AHUlGgapoZvf"
   },
   "source": [
    "## Subclassing with TensorFlow and Keras\n",
    "\n",
    "The `tf.keras.Sequential` model is a simple stack of layers that cannot be used to create arbitrary models. Luckily, `tf.keras` gives us the flexibility to build fully-customizable models by subclassing the `tf.keras.Model` and defining our own forward pass.\n",
    "\n",
    "In the following example we will use a subclassed `tf.keras.Model` to build the same neural network as we built above with 784 inputs, 256 hidden units, and 10 output units. As before, we will use a ReLu activation function for the units in the hidden layer, and a Softmax activation function for the output neurons. "
   ]
  },
  {
   "cell_type": "code",
   "execution_count": 21,
   "metadata": {
    "colab": {},
    "colab_type": "code",
    "id": "0SeLyZ5_oaSz"
   },
   "outputs": [],
   "source": [
    "class Network(tf.keras.Model):\n",
    "    def __init__(self, num_classes = 2):\n",
    "        super().__init__()\n",
    "        self.num_classes = num_classes\n",
    "    \n",
    "        # Define layers \n",
    "        self.input_layer = tf.keras.layers.Flatten()\n",
    "        self.hidden_layer = tf.keras.layers.Dense(256, activation = 'relu')\n",
    "        self.output_layer = tf.keras.layers.Dense(self.num_classes, activation = 'softmax')\n",
    "    \n",
    "    # Define forward Pass   \n",
    "    def call(self, input_tensor):\n",
    "        x = self.input_layer(input_tensor)\n",
    "        x = self.hidden_layer(x)\n",
    "        x = self.output_layer(x)\n",
    "    \n",
    "        return x "
   ]
  },
  {
   "cell_type": "markdown",
   "metadata": {
    "colab_type": "text",
    "id": "yfJjnjIvojTc"
   },
   "source": [
    "Let's go through this bit by bit.\n",
    "\n",
    "```python\n",
    "class Network(tf.keras.Model):\n",
    "```\n",
    "\n",
    "Here we're inheriting from `tf.keras.Model`. Combined with `super().__init__()` this creates a class that provides a lot of useful methods and attributes. It is mandatory to inherit from `tf.keras.Model` when you're creating a class for your network. However, the name of the class itself can be anything.\n",
    "\n",
    "We then create the layers of our network in the `__init__` method and set them as attributes of the class instance. We also assign the number of neurons in our output layer in the `__init__` method via the `num_classes` argument, which by default will have a value of 2.\n",
    "\n",
    "```python\n",
    "self.input = tf.keras.layers.Flatten()\n",
    "```\n",
    "\n",
    "The first layer flattens the input image as we have discussed previously. We have given this layer the name `self.input`. We will use this name to reference this layer later. It doesn't matter what name you give your layers, you can name them whatever you want.\n",
    "\n",
    "```python\n",
    "self.hidden = tf.keras.layers.Dense(256, activation = 'relu')\n",
    "```\n",
    "\n",
    "The second layer is a fully-connected (dense) layer with 256 neurons and a ReLu activation function. We have given this layer the name `self.hidden`. We will use this name to reference this layer later.\n",
    "\n",
    "```python\n",
    "self.output = tf.keras.layers.Dense(self.num_classes, activation = 'softmax')\n",
    "```\n",
    "\n",
    "The third and last layer (output layer) is also a fully-connected (dense) layer with `self.num_classes` neurons and a softmax activation function. By default the number of output units will be 2, but can be defined to be any other integer depending on the number of output classes of your dataset. \n",
    "\n",
    "Next, we define the forward pass in the `call` method.\n",
    "\n",
    "```python\n",
    "def call(self, input_tensor):\n",
    "```\n",
    "\n",
    "TensorFlow models created with `tf.keras.Model` must have a `call` method defined. In the `call` method we take `input_tensor` and pass it through the layers we defined in the `__init__` method.\n",
    "\n",
    "```python\n",
    "x = self.input(input_tensor)\n",
    "x = self.hidden(x)\n",
    "x = self.output(x)\n",
    "```\n",
    "\n",
    "Here the `input_tensor` is passed through each layer and reassigned to `x`. We can see that the `input_tensor` goes through the `input` layer, then the `hidden` layer, and finally through the `output` layer. The order in which you define the layers in the `__init__` method doesn't matter, but you'll need to sequence the layers correctly in the `call` method. Notice that we are referring to each layer in the `__init__` method by the name we gave them. Remember this names are arbitrary.\n",
    "\n",
    "Now that we have defined our model class we can create a `model` object. Note that we didn't specify the shape of our input tensor in our `Network` class. In this case, the weights and biases will only be initialized when we build our model by calling `build(batch_input_shape)` or when the first call to a training/evaluation method (such as `.fit` or `.evaluate`) is made. We call this a delayed-build pattern.\n",
    "\n",
    "So, now let's create a `model` object and build it (i.e. initialize its weights and biases) by calling `build()`."
   ]
  },
  {
   "cell_type": "code",
   "execution_count": 22,
   "metadata": {
    "colab": {
     "base_uri": "https://localhost:8080/",
     "height": 255
    },
    "colab_type": "code",
    "id": "FZdpLsXioj_w",
    "outputId": "9b8df3b9-a258-4440-82d1-ca2f09b14232"
   },
   "outputs": [
    {
     "name": "stdout",
     "output_type": "stream",
     "text": [
      "Model: \"network\"\n",
      "_________________________________________________________________\n",
      "Layer (type)                 Output Shape              Param #   \n",
      "=================================================================\n",
      "flatten_2 (Flatten)          multiple                  0         \n",
      "_________________________________________________________________\n",
      "dense_5 (Dense)              multiple                  200960    \n",
      "_________________________________________________________________\n",
      "dense_6 (Dense)              multiple                  2570      \n",
      "=================================================================\n",
      "Total params: 203,530\n",
      "Trainable params: 203,530\n",
      "Non-trainable params: 0\n",
      "_________________________________________________________________\n"
     ]
    }
   ],
   "source": [
    "# Create a model object\n",
    "subclassed_model = Network(10)\n",
    "\n",
    "# Build the model, i.e. initialize the model's weights and biases\n",
    "subclassed_model.build((None, 28, 28, 1))\n",
    "\n",
    "subclassed_model.summary()"
   ]
  },
  {
   "cell_type": "markdown",
   "metadata": {
    "colab_type": "text",
    "id": "JvaGttubvdXt"
   },
   "source": [
    "Remember that `None` is used to indicate that any integer may be expected. So, we use `None` to indicate batches of any size are acceptable. \n",
    "\n",
    "While model subclassing offers flexibility, it comes at a cost of greater complexity and more opportunities for\n",
    "user errors. So, we recommend, to always use the simplest tool for the job. "
   ]
  },
  {
   "cell_type": "markdown",
   "metadata": {
    "colab_type": "text",
    "id": "gYc20VqXo3tm"
   },
   "source": [
    "### Your Turn to Build a Neural Network\n",
    "\n",
    "<img src=\"assets/mlp_mnist.png\" width=600px>\n",
    "\n",
    "> **Exercise:** Use the subclassing method to create a network with 784 input units, a hidden layer with 128 units and a ReLU activation, then a hidden layer with 64 units and a ReLU activation, and finally an output layer with 10 units and a softmax activation function. You can use a ReLU activation function by setting `activation = 'relu'`. After you create your model, create a model object and build it."
   ]
  },
  {
   "cell_type": "code",
   "execution_count": 24,
   "metadata": {
    "colab": {
     "base_uri": "https://localhost:8080/",
     "height": 289
    },
    "colab_type": "code",
    "id": "q4FIQ-BPo1BS",
    "outputId": "ecf18a3b-192f-4b62-a64e-b4abef841080",
    "scrolled": false
   },
   "outputs": [
    {
     "ename": "RuntimeError",
     "evalue": "It looks like you are subclassing `Model` and you forgot to call `super(YourClass, self).__init__()`. Always start with this line.",
     "output_type": "error",
     "traceback": [
      "\u001b[0;31m---------------------------------------------------------------------------\u001b[0m",
      "\u001b[0;31mAttributeError\u001b[0m                            Traceback (most recent call last)",
      "\u001b[0;32m/opt/conda/lib/python3.7/site-packages/tensorflow_core/python/keras/engine/network.py\u001b[0m in \u001b[0;36m__setattr__\u001b[0;34m(self, name, value)\u001b[0m\n\u001b[1;32m    425\u001b[0m       \u001b[0;32mtry\u001b[0m\u001b[0;34m:\u001b[0m\u001b[0;34m\u001b[0m\u001b[0;34m\u001b[0m\u001b[0m\n\u001b[0;32m--> 426\u001b[0;31m         \u001b[0mself\u001b[0m\u001b[0;34m.\u001b[0m\u001b[0m_is_graph_network\u001b[0m\u001b[0;34m\u001b[0m\u001b[0;34m\u001b[0m\u001b[0m\n\u001b[0m\u001b[1;32m    427\u001b[0m       \u001b[0;32mexcept\u001b[0m \u001b[0mAttributeError\u001b[0m\u001b[0;34m:\u001b[0m\u001b[0;34m\u001b[0m\u001b[0;34m\u001b[0m\u001b[0m\n",
      "\u001b[0;31mAttributeError\u001b[0m: 'my_Network' object has no attribute '_is_graph_network'",
      "\nDuring handling of the above exception, another exception occurred:\n",
      "\u001b[0;31mRuntimeError\u001b[0m                              Traceback (most recent call last)",
      "\u001b[0;32m<ipython-input-24-29c2cede0e60>\u001b[0m in \u001b[0;36m<module>\u001b[0;34m\u001b[0m\n\u001b[1;32m     18\u001b[0m \u001b[0;34m\u001b[0m\u001b[0m\n\u001b[1;32m     19\u001b[0m \u001b[0;34m\u001b[0m\u001b[0m\n\u001b[0;32m---> 20\u001b[0;31m \u001b[0mmy_model_2\u001b[0m \u001b[0;34m=\u001b[0m \u001b[0mmy_Network\u001b[0m\u001b[0;34m(\u001b[0m\u001b[0;36m10\u001b[0m\u001b[0;34m)\u001b[0m\u001b[0;34m\u001b[0m\u001b[0;34m\u001b[0m\u001b[0m\n\u001b[0m\u001b[1;32m     21\u001b[0m \u001b[0;34m\u001b[0m\u001b[0m\n\u001b[1;32m     22\u001b[0m \u001b[0mmy_model_2\u001b[0m\u001b[0;34m.\u001b[0m\u001b[0msummary\u001b[0m\u001b[0;34m(\u001b[0m\u001b[0;34m)\u001b[0m\u001b[0;34m\u001b[0m\u001b[0;34m\u001b[0m\u001b[0m\n",
      "\u001b[0;32m<ipython-input-24-29c2cede0e60>\u001b[0m in \u001b[0;36m__init__\u001b[0;34m(self, n_outputs)\u001b[0m\n\u001b[1;32m      4\u001b[0m         \u001b[0mself\u001b[0m\u001b[0;34m.\u001b[0m\u001b[0mn_outputs\u001b[0m \u001b[0;34m=\u001b[0m \u001b[0mn_outputs\u001b[0m\u001b[0;34m\u001b[0m\u001b[0;34m\u001b[0m\u001b[0m\n\u001b[1;32m      5\u001b[0m \u001b[0;34m\u001b[0m\u001b[0m\n\u001b[0;32m----> 6\u001b[0;31m         \u001b[0mself\u001b[0m\u001b[0;34m.\u001b[0m\u001b[0minput_layer\u001b[0m \u001b[0;34m=\u001b[0m \u001b[0mtf\u001b[0m\u001b[0;34m.\u001b[0m\u001b[0mkeras\u001b[0m\u001b[0;34m.\u001b[0m\u001b[0mlayers\u001b[0m\u001b[0;34m.\u001b[0m\u001b[0mFlatten\u001b[0m\u001b[0;34m(\u001b[0m\u001b[0;34m)\u001b[0m\u001b[0;34m\u001b[0m\u001b[0;34m\u001b[0m\u001b[0m\n\u001b[0m\u001b[1;32m      7\u001b[0m         \u001b[0mself\u001b[0m\u001b[0;34m.\u001b[0m\u001b[0mhidden_1\u001b[0m \u001b[0;34m=\u001b[0m \u001b[0mtf\u001b[0m\u001b[0;34m.\u001b[0m\u001b[0mkeras\u001b[0m\u001b[0;34m.\u001b[0m\u001b[0mlayers\u001b[0m\u001b[0;34m.\u001b[0m\u001b[0mDense\u001b[0m\u001b[0;34m(\u001b[0m\u001b[0;36m128\u001b[0m\u001b[0;34m,\u001b[0m \u001b[0mactivation\u001b[0m\u001b[0;34m=\u001b[0m\u001b[0;34m'relu'\u001b[0m\u001b[0;34m)\u001b[0m\u001b[0;34m\u001b[0m\u001b[0;34m\u001b[0m\u001b[0m\n\u001b[1;32m      8\u001b[0m         \u001b[0mself\u001b[0m\u001b[0;34m.\u001b[0m\u001b[0mhidden_2\u001b[0m \u001b[0;34m=\u001b[0m \u001b[0mtf\u001b[0m\u001b[0;34m.\u001b[0m\u001b[0mkeras\u001b[0m\u001b[0;34m.\u001b[0m\u001b[0mlayers\u001b[0m\u001b[0;34m.\u001b[0m\u001b[0mDense\u001b[0m\u001b[0;34m(\u001b[0m\u001b[0;36m64\u001b[0m\u001b[0;34m,\u001b[0m \u001b[0mactivation\u001b[0m\u001b[0;34m=\u001b[0m\u001b[0;34m'relu'\u001b[0m\u001b[0;34m)\u001b[0m\u001b[0;34m\u001b[0m\u001b[0;34m\u001b[0m\u001b[0m\n",
      "\u001b[0;32m/opt/conda/lib/python3.7/site-packages/tensorflow_core/python/keras/engine/network.py\u001b[0m in \u001b[0;36m__setattr__\u001b[0;34m(self, name, value)\u001b[0m\n\u001b[1;32m    426\u001b[0m         \u001b[0mself\u001b[0m\u001b[0;34m.\u001b[0m\u001b[0m_is_graph_network\u001b[0m\u001b[0;34m\u001b[0m\u001b[0;34m\u001b[0m\u001b[0m\n\u001b[1;32m    427\u001b[0m       \u001b[0;32mexcept\u001b[0m \u001b[0mAttributeError\u001b[0m\u001b[0;34m:\u001b[0m\u001b[0;34m\u001b[0m\u001b[0;34m\u001b[0m\u001b[0m\n\u001b[0;32m--> 428\u001b[0;31m         raise RuntimeError('It looks like you are subclassing `Model` and you '\n\u001b[0m\u001b[1;32m    429\u001b[0m                            \u001b[0;34m'forgot to call `super(YourClass, self).__init__()`.'\u001b[0m\u001b[0;34m\u001b[0m\u001b[0;34m\u001b[0m\u001b[0m\n\u001b[1;32m    430\u001b[0m                            ' Always start with this line.')\n",
      "\u001b[0;31mRuntimeError\u001b[0m: It looks like you are subclassing `Model` and you forgot to call `super(YourClass, self).__init__()`. Always start with this line."
     ]
    }
   ],
   "source": [
    "## Solution\n",
    "class my_Network(tf.keras.Model):\n",
    "    def __init__(self, n_outputs = 2):\n",
    "        self.n_outputs = n_outputs\n",
    "        \n",
    "        self.input_layer = tf.keras.layers.Flatten()\n",
    "        self.hidden_1 = tf.keras.layers.Dense(128, activation='relu')\n",
    "        self.hidden_2 = tf.keras.layers.Dense(64, activation='relu')\n",
    "        self.output_layer = tf.keras.layers.Dense(10, activation='softmax')\n",
    "    \n",
    "    def call(self, tensor_input):\n",
    "        x = self.input_layer(tensor_input)\n",
    "        x = self.hidden_1(x)\n",
    "        x = self.hidden_2(x)\n",
    "        output = self.output_layer(x)\n",
    "        return output\n",
    "\n",
    "\n",
    "\n",
    "my_model_2 = my_Network(10)\n",
    "\n",
    "my_model_2.summary()"
   ]
  },
  {
   "cell_type": "code",
   "execution_count": 26,
   "metadata": {},
   "outputs": [
    {
     "name": "stdout",
     "output_type": "stream",
     "text": [
      "Model: \"my__network_1\"\n",
      "_________________________________________________________________\n",
      "Layer (type)                 Output Shape              Param #   \n",
      "=================================================================\n",
      "flatten_5 (Flatten)          multiple                  0         \n",
      "_________________________________________________________________\n",
      "dense_10 (Dense)             multiple                  100480    \n",
      "_________________________________________________________________\n",
      "dense_11 (Dense)             multiple                  8256      \n",
      "_________________________________________________________________\n",
      "dense_12 (Dense)             multiple                  650       \n",
      "=================================================================\n",
      "Total params: 109,386\n",
      "Trainable params: 109,386\n",
      "Non-trainable params: 0\n",
      "_________________________________________________________________\n"
     ]
    }
   ],
   "source": [
    "## Solution\n",
    "class my_Network(tf.keras.Model):\n",
    "    def __init__(self, n_outputs = 2):\n",
    "        super().__init__()\n",
    "        self.n_outputs = n_outputs\n",
    "        \n",
    "        self.input_layer = tf.keras.layers.Flatten()\n",
    "        self.hidden_1 = tf.keras.layers.Dense(128, activation='relu')\n",
    "        self.hidden_2 = tf.keras.layers.Dense(64, activation='relu')\n",
    "        self.output_layer = tf.keras.layers.Dense(10, activation='softmax')\n",
    "    \n",
    "    def call(self, tensor_input):\n",
    "        x = self.input_layer(tensor_input)\n",
    "        x = self.hidden_1(x)\n",
    "        x = self.hidden_2(x)\n",
    "        output = self.output_layer(x)\n",
    "        return output\n",
    "\n",
    "\n",
    "\n",
    "my_model_2 = my_Network(10)\n",
    "\n",
    "my_model_2.build((None, 28,28,1)) # have to build the model by defining the format of input. 'None' represents any number of images can be sent\n",
    "# Building the model will initialize it's weights and biases, which it can't do without we mentioning how the input comes.\n",
    "my_model_2.summary()"
   ]
  },
  {
   "cell_type": "markdown",
   "metadata": {
    "colab_type": "text",
    "id": "fau1iyME_x1M"
   },
   "source": [
    "## Looking at Weights and Biases of Subclassed Models\n",
    "\n",
    "As before, we can get the weights an biases of each layer in our subclassed models. In this case, we can use the name we gave to each layer in the `__init__` method to get the weights and biases of a particular layer. For example, in the exercise we gave the first hidden layer the name `hidden_1`, so we can get the weights an biases from this layer by using:"
   ]
  },
  {
   "cell_type": "code",
   "execution_count": 27,
   "metadata": {
    "colab": {
     "base_uri": "https://localhost:8080/",
     "height": 357
    },
    "colab_type": "code",
    "id": "hdsFjbmRU_el",
    "outputId": "b3183ba2-925d-4d00-c65e-83d5980ba5a6"
   },
   "outputs": [
    {
     "name": "stdout",
     "output_type": "stream",
     "text": [
      "\n",
      "• Weights:\n",
      " [[-0.09571758  0.14549384  0.00735326 ...  0.12259385  0.07355824\n",
      "  -0.08254448]\n",
      " [ 0.02278407 -0.1071379   0.13760862 ...  0.01517467  0.06597926\n",
      "  -0.12943052]\n",
      " [-0.03838754  0.04247992 -0.05618509 ... -0.03717528 -0.10182431\n",
      "   0.1141555 ]\n",
      " ...\n",
      " [-0.1307779  -0.04399516  0.03508273 ... -0.04152808 -0.00147964\n",
      "   0.09995902]\n",
      " [-0.00210215 -0.05514681  0.08387673 ... -0.06954987  0.00938055\n",
      "   0.10463274]\n",
      " [ 0.02600671  0.09118524  0.11147726 ... -0.06998651  0.10737291\n",
      "   0.0218323 ]]\n",
      "\n",
      "• Biases:\n",
      " [0. 0. 0. 0. 0. 0. 0. 0. 0. 0.]\n",
      "\n",
      "This layer has a total of 100,352 weights and 128 biases\n"
     ]
    }
   ],
   "source": [
    "w1 = my_model_2.hidden_1.get_weights()[0]\n",
    "b1 = my_model_2.hidden_1.get_weights()[1]\n",
    "\n",
    "print('\\n\\u2022 Weights:\\n', w)\n",
    "print('\\n\\u2022 Biases:\\n', b)\n",
    "print('\\nThis layer has a total of {:,} weights and {:,} biases'.format(w1.size, b1.size))"
   ]
  },
  {
   "cell_type": "markdown",
   "metadata": {
    "colab_type": "text",
    "id": "6-y_bv6uBXvs"
   },
   "source": [
    "All the other methods we saw before, such as `.layers`, are also available for subclassed models, so feel free to use them."
   ]
  },
  {
   "cell_type": "markdown",
   "metadata": {
    "colab_type": "text",
    "id": "IAIMbWqEpJuV"
   },
   "source": [
    "## Making Predictions with Subclassed Models\n",
    "\n",
    "Predictions are made in exactly the same way as before. So let's pass an image to our subclassed model and see what we get:"
   ]
  },
  {
   "cell_type": "code",
   "execution_count": 28,
   "metadata": {
    "colab": {
     "base_uri": "https://localhost:8080/",
     "height": 243
    },
    "colab_type": "code",
    "id": "qFV-XUP9pKSn",
    "outputId": "957e6c81-4165-44b9-d0d4-08c3ca1b4742"
   },
   "outputs": [
    {
     "data": {
      "image/png": "[encoded data removed]",
      "text/plain": [
       "<Figure size 432x648 with 2 Axes>"
      ]
     },
     "metadata": {
      "image/png": {
       "height": 235,
       "width": 424
      },
      "needs_background": "light"
     },
     "output_type": "display_data"
    }
   ],
   "source": [
    "for image_batch, label_batch in training_batches.take(1):\n",
    "    ps = my_model_2.predict(image_batch) # changed to my model\n",
    "    first_image = image_batch.numpy().squeeze()[0]\n",
    "\n",
    "fig, (ax1, ax2) = plt.subplots(figsize=(6,9), ncols=2)\n",
    "ax1.imshow(first_image, cmap = plt.cm.binary)\n",
    "ax1.axis('off')\n",
    "ax2.barh(np.arange(10), ps[0])\n",
    "ax2.set_aspect(0.1)\n",
    "ax2.set_yticks(np.arange(10))\n",
    "ax2.set_yticklabels(np.arange(10))\n",
    "ax2.set_title('Class Probability')\n",
    "ax2.set_xlim(0, 1.1)\n",
    "plt.tight_layout()"
   ]
  },
  {
   "cell_type": "markdown",
   "metadata": {
    "colab_type": "text",
    "id": "GI-f9IzJpO3A"
   },
   "source": [
    "As before, we can see above, our model gives every digit roughly the same probability. This means our network has basically no idea what the digit in the image is. This is because we haven't trained our model yet, so all the weights are random!\n",
    "\n",
    "In the next notebook, we'll see how we can train a neural network to accurately predict the numbers appearing in the MNIST images."
   ]
  },
  {
   "cell_type": "markdown",
   "metadata": {
    "colab_type": "text",
    "id": "vUfsknUC3ctf"
   },
   "source": [
    "## Other Methods to Create Models"
   ]
  },
  {
   "cell_type": "code",
   "execution_count": 29,
   "metadata": {
    "colab": {
     "base_uri": "https://localhost:8080/",
     "height": 255
    },
    "colab_type": "code",
    "id": "Qlk-03oapl6S",
    "outputId": "ac7ea2e6-db22-411c-b239-446c624e7ad7"
   },
   "outputs": [
    {
     "name": "stdout",
     "output_type": "stream",
     "text": [
      "Model: \"sequential_2\"\n",
      "_________________________________________________________________\n",
      "Layer (type)                 Output Shape              Param #   \n",
      "=================================================================\n",
      "flatten_6 (Flatten)          (None, 784)               0         \n",
      "_________________________________________________________________\n",
      "dense_13 (Dense)             (None, 32)                25120     \n",
      "_________________________________________________________________\n",
      "dense_14 (Dense)             (None, 10)                330       \n",
      "=================================================================\n",
      "Total params: 25,450\n",
      "Trainable params: 25,450\n",
      "Non-trainable params: 0\n",
      "_________________________________________________________________\n"
     ]
    }
   ],
   "source": [
    "model = tf.keras.Sequential()\n",
    "\n",
    "model.add(tf.keras.layers.Flatten(input_shape = (28,28,1)))\n",
    "model.add(tf.keras.layers.Dense(32, activation='relu'))\n",
    "model.add(tf.keras.layers.Dense(10, activation='softmax'))\n",
    "          \n",
    "model.summary()"
   ]
  },
  {
   "cell_type": "code",
   "execution_count": 30,
   "metadata": {
    "colab": {
     "base_uri": "https://localhost:8080/",
     "height": 425
    },
    "colab_type": "code",
    "id": "oBmAM5Ip15Gg",
    "outputId": "ca254c0a-d6bf-45cf-a36c-3365af23d351"
   },
   "outputs": [
    {
     "name": "stdout",
     "output_type": "stream",
     "text": [
      "Model: \"sequential_3\"\n",
      "_________________________________________________________________\n",
      "Layer (type)                 Output Shape              Param #   \n",
      "=================================================================\n",
      "flatten_7 (Flatten)          (None, 784)               0         \n",
      "_________________________________________________________________\n",
      "dense_15 (Dense)             (None, 512)               401920    \n",
      "_________________________________________________________________\n",
      "dense_16 (Dense)             (None, 256)               131328    \n",
      "_________________________________________________________________\n",
      "dense_17 (Dense)             (None, 128)               32896     \n",
      "_________________________________________________________________\n",
      "dense_18 (Dense)             (None, 56)                7224      \n",
      "_________________________________________________________________\n",
      "dense_19 (Dense)             (None, 28)                1596      \n",
      "_________________________________________________________________\n",
      "dense_20 (Dense)             (None, 14)                406       \n",
      "_________________________________________________________________\n",
      "dense_21 (Dense)             (None, 10)                150       \n",
      "=================================================================\n",
      "Total params: 575,520\n",
      "Trainable params: 575,520\n",
      "Non-trainable params: 0\n",
      "_________________________________________________________________\n"
     ]
    }
   ],
   "source": [
    "layer_neurons = [512, 256, 128, 56, 28, 14]\n",
    "\n",
    "model = tf.keras.Sequential()\n",
    "model.add(tf.keras.layers.Flatten(input_shape = (28,28,1)))\n",
    "\n",
    "for neurons in layer_neurons:\n",
    "    model.add(tf.keras.layers.Dense(neurons, activation='relu'))\n",
    "            \n",
    "model.add(tf.keras.layers.Dense(10, activation='softmax'))\n",
    "          \n",
    "model.summary()        "
   ]
  },
  {
   "cell_type": "markdown",
   "metadata": {
    "colab_type": "text",
    "id": "Weo3uwdrA8di"
   },
   "source": [
    "## Clearing the Graph\n",
    "\n",
    "In order to avoid clutter from old models in the graph, we can use:\n",
    "\n",
    "```python\n",
    "tf.keras.backend.clear_session()\n",
    "```\n",
    "\n",
    "This command deletes the current `tf.keras` graph and creates a new one."
   ]
  },
  {
   "cell_type": "code",
   "execution_count": 31,
   "metadata": {
    "colab": {
     "base_uri": "https://localhost:8080/",
     "height": 425
    },
    "colab_type": "code",
    "id": "kZ2e667J4Bod",
    "outputId": "6d7882d3-e540-4f5e-8745-e1782c4c4dd3"
   },
   "outputs": [
    {
     "name": "stdout",
     "output_type": "stream",
     "text": [
      "Model: \"sequential\"\n",
      "_________________________________________________________________\n",
      "Layer (type)                 Output Shape              Param #   \n",
      "=================================================================\n",
      "flatten (Flatten)            (None, 784)               0         \n",
      "_________________________________________________________________\n",
      "dense (Dense)                (None, 512)               401920    \n",
      "_________________________________________________________________\n",
      "dense_1 (Dense)              (None, 256)               131328    \n",
      "_________________________________________________________________\n",
      "dense_2 (Dense)              (None, 128)               32896     \n",
      "_________________________________________________________________\n",
      "dense_3 (Dense)              (None, 56)                7224      \n",
      "_________________________________________________________________\n",
      "dense_4 (Dense)              (None, 28)                1596      \n",
      "_________________________________________________________________\n",
      "dense_5 (Dense)              (None, 14)                406       \n",
      "_________________________________________________________________\n",
      "dense_6 (Dense)              (None, 10)                150       \n",
      "=================================================================\n",
      "Total params: 575,520\n",
      "Trainable params: 575,520\n",
      "Non-trainable params: 0\n",
      "_________________________________________________________________\n"
     ]
    }
   ],
   "source": [
    "tf.keras.backend.clear_session()\n",
    "\n",
    "layer_neurons = [512, 256, 128, 56, 28, 14]\n",
    "\n",
    "model = tf.keras.Sequential()\n",
    "model.add(tf.keras.layers.Flatten(input_shape = (28,28,1)))\n",
    "\n",
    "for neurons in layer_neurons:\n",
    "    model.add(tf.keras.layers.Dense(neurons, activation='relu'))\n",
    "            \n",
    "model.add(tf.keras.layers.Dense(10, activation='softmax'))\n",
    "          \n",
    "model.summary()    "
   ]
  },
  {
   "cell_type": "code",
   "execution_count": null,
   "metadata": {
    "colab": {},
    "colab_type": "code",
    "id": "ZxZZdnIuA4J2"
   },
   "outputs": [],
   "source": []
  }
 ],
 "metadata": {
  "accelerator": "GPU",
  "colab": {
   "collapsed_sections": [],
   "name": "Part 2 - Neural networks with TensorFlow and Keras (Solution).ipynb",
   "provenance": []
  },
  "kernelspec": {
   "display_name": "Python 3",
   "language": "python",
   "name": "python3"
  },
  "language_info": {
   "codemirror_mode": {
    "name": "ipython",
    "version": 3
   },
   "file_extension": ".py",
   "mimetype": "text/x-python",
   "name": "python",
   "nbconvert_exporter": "python",
   "pygments_lexer": "ipython3",
   "version": "3.7.4"
  }
 },
 "nbformat": 4,
 "nbformat_minor": 1
}
